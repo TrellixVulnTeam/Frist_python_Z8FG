{
  "nbformat": 4,
  "nbformat_minor": 0,
  "metadata": {
    "colab": {
      "name": "420tf",
      "provenance": [],
      "collapsed_sections": [],
      "authorship_tag": "ABX9TyMcKaOppZUQD3XuQIL2fCN+",
      "include_colab_link": true
    },
    "kernelspec": {
      "name": "python3",
      "display_name": "Python 3"
    },
    "language_info": {
      "name": "python"
    }
  },
  "cells": [
    {
      "cell_type": "markdown",
      "metadata": {
        "id": "view-in-github",
        "colab_type": "text"
      },
      "source": [
        "<a href=\"https://colab.research.google.com/github/chengze123/Frist_python/blob/master/420tf2.ipynb\" target=\"_parent\"><img src=\"https://colab.research.google.com/assets/colab-badge.svg\" alt=\"Open In Colab\"/></a>"
      ]
    },
    {
      "cell_type": "code",
      "metadata": {
        "colab": {
          "base_uri": "https://localhost:8080/"
        },
        "id": "I_fksgONL6jY",
        "outputId": "2f9c1592-f25c-4193-f729-20fd30f83a55"
      },
      "source": [
        "!pip install tensorflow_text"
      ],
      "execution_count": 1,
      "outputs": [
        {
          "output_type": "stream",
          "text": [
            "Collecting tensorflow_text\n",
            "\u001b[?25l  Downloading https://files.pythonhosted.org/packages/b6/c0/c0fed4301f592c3b56638ae7292612c17d91a43891ba1aaf9636d535beae/tensorflow_text-2.4.3-cp37-cp37m-manylinux1_x86_64.whl (3.4MB)\n",
            "\r\u001b[K     |                                | 10kB 14.0MB/s eta 0:00:01\r\u001b[K     |▏                               | 20kB 20.5MB/s eta 0:00:01\r\u001b[K     |▎                               | 30kB 25.5MB/s eta 0:00:01\r\u001b[K     |▍                               | 40kB 25.2MB/s eta 0:00:01\r\u001b[K     |▌                               | 51kB 25.4MB/s eta 0:00:01\r\u001b[K     |▋                               | 61kB 20.5MB/s eta 0:00:01\r\u001b[K     |▊                               | 71kB 20.3MB/s eta 0:00:01\r\u001b[K     |▉                               | 81kB 17.3MB/s eta 0:00:01\r\u001b[K     |▉                               | 92kB 15.9MB/s eta 0:00:01\r\u001b[K     |█                               | 102kB 17.0MB/s eta 0:00:01\r\u001b[K     |█                               | 112kB 17.0MB/s eta 0:00:01\r\u001b[K     |█▏                              | 122kB 17.0MB/s eta 0:00:01\r\u001b[K     |█▎                              | 133kB 17.0MB/s eta 0:00:01\r\u001b[K     |█▍                              | 143kB 17.0MB/s eta 0:00:01\r\u001b[K     |█▌                              | 153kB 17.0MB/s eta 0:00:01\r\u001b[K     |█▋                              | 163kB 17.0MB/s eta 0:00:01\r\u001b[K     |█▋                              | 174kB 17.0MB/s eta 0:00:01\r\u001b[K     |█▊                              | 184kB 17.0MB/s eta 0:00:01\r\u001b[K     |█▉                              | 194kB 17.0MB/s eta 0:00:01\r\u001b[K     |██                              | 204kB 17.0MB/s eta 0:00:01\r\u001b[K     |██                              | 215kB 17.0MB/s eta 0:00:01\r\u001b[K     |██▏                             | 225kB 17.0MB/s eta 0:00:01\r\u001b[K     |██▎                             | 235kB 17.0MB/s eta 0:00:01\r\u001b[K     |██▍                             | 245kB 17.0MB/s eta 0:00:01\r\u001b[K     |██▍                             | 256kB 17.0MB/s eta 0:00:01\r\u001b[K     |██▌                             | 266kB 17.0MB/s eta 0:00:01\r\u001b[K     |██▋                             | 276kB 17.0MB/s eta 0:00:01\r\u001b[K     |██▊                             | 286kB 17.0MB/s eta 0:00:01\r\u001b[K     |██▉                             | 296kB 17.0MB/s eta 0:00:01\r\u001b[K     |███                             | 307kB 17.0MB/s eta 0:00:01\r\u001b[K     |███                             | 317kB 17.0MB/s eta 0:00:01\r\u001b[K     |███▏                            | 327kB 17.0MB/s eta 0:00:01\r\u001b[K     |███▏                            | 337kB 17.0MB/s eta 0:00:01\r\u001b[K     |███▎                            | 348kB 17.0MB/s eta 0:00:01\r\u001b[K     |███▍                            | 358kB 17.0MB/s eta 0:00:01\r\u001b[K     |███▌                            | 368kB 17.0MB/s eta 0:00:01\r\u001b[K     |███▋                            | 378kB 17.0MB/s eta 0:00:01\r\u001b[K     |███▊                            | 389kB 17.0MB/s eta 0:00:01\r\u001b[K     |███▉                            | 399kB 17.0MB/s eta 0:00:01\r\u001b[K     |████                            | 409kB 17.0MB/s eta 0:00:01\r\u001b[K     |████                            | 419kB 17.0MB/s eta 0:00:01\r\u001b[K     |████                            | 430kB 17.0MB/s eta 0:00:01\r\u001b[K     |████▏                           | 440kB 17.0MB/s eta 0:00:01\r\u001b[K     |████▎                           | 450kB 17.0MB/s eta 0:00:01\r\u001b[K     |████▍                           | 460kB 17.0MB/s eta 0:00:01\r\u001b[K     |████▌                           | 471kB 17.0MB/s eta 0:00:01\r\u001b[K     |████▋                           | 481kB 17.0MB/s eta 0:00:01\r\u001b[K     |████▊                           | 491kB 17.0MB/s eta 0:00:01\r\u001b[K     |████▊                           | 501kB 17.0MB/s eta 0:00:01\r\u001b[K     |████▉                           | 512kB 17.0MB/s eta 0:00:01\r\u001b[K     |█████                           | 522kB 17.0MB/s eta 0:00:01\r\u001b[K     |█████                           | 532kB 17.0MB/s eta 0:00:01\r\u001b[K     |█████▏                          | 542kB 17.0MB/s eta 0:00:01\r\u001b[K     |█████▎                          | 552kB 17.0MB/s eta 0:00:01\r\u001b[K     |█████▍                          | 563kB 17.0MB/s eta 0:00:01\r\u001b[K     |█████▌                          | 573kB 17.0MB/s eta 0:00:01\r\u001b[K     |█████▌                          | 583kB 17.0MB/s eta 0:00:01\r\u001b[K     |█████▋                          | 593kB 17.0MB/s eta 0:00:01\r\u001b[K     |█████▊                          | 604kB 17.0MB/s eta 0:00:01\r\u001b[K     |█████▉                          | 614kB 17.0MB/s eta 0:00:01\r\u001b[K     |██████                          | 624kB 17.0MB/s eta 0:00:01\r\u001b[K     |██████                          | 634kB 17.0MB/s eta 0:00:01\r\u001b[K     |██████▏                         | 645kB 17.0MB/s eta 0:00:01\r\u001b[K     |██████▎                         | 655kB 17.0MB/s eta 0:00:01\r\u001b[K     |██████▎                         | 665kB 17.0MB/s eta 0:00:01\r\u001b[K     |██████▍                         | 675kB 17.0MB/s eta 0:00:01\r\u001b[K     |██████▌                         | 686kB 17.0MB/s eta 0:00:01\r\u001b[K     |██████▋                         | 696kB 17.0MB/s eta 0:00:01\r\u001b[K     |██████▊                         | 706kB 17.0MB/s eta 0:00:01\r\u001b[K     |██████▉                         | 716kB 17.0MB/s eta 0:00:01\r\u001b[K     |███████                         | 727kB 17.0MB/s eta 0:00:01\r\u001b[K     |███████                         | 737kB 17.0MB/s eta 0:00:01\r\u001b[K     |███████                         | 747kB 17.0MB/s eta 0:00:01\r\u001b[K     |███████▏                        | 757kB 17.0MB/s eta 0:00:01\r\u001b[K     |███████▎                        | 768kB 17.0MB/s eta 0:00:01\r\u001b[K     |███████▍                        | 778kB 17.0MB/s eta 0:00:01\r\u001b[K     |███████▌                        | 788kB 17.0MB/s eta 0:00:01\r\u001b[K     |███████▋                        | 798kB 17.0MB/s eta 0:00:01\r\u001b[K     |███████▊                        | 808kB 17.0MB/s eta 0:00:01\r\u001b[K     |███████▉                        | 819kB 17.0MB/s eta 0:00:01\r\u001b[K     |███████▉                        | 829kB 17.0MB/s eta 0:00:01\r\u001b[K     |████████                        | 839kB 17.0MB/s eta 0:00:01\r\u001b[K     |████████                        | 849kB 17.0MB/s eta 0:00:01\r\u001b[K     |████████▏                       | 860kB 17.0MB/s eta 0:00:01\r\u001b[K     |████████▎                       | 870kB 17.0MB/s eta 0:00:01\r\u001b[K     |████████▍                       | 880kB 17.0MB/s eta 0:00:01\r\u001b[K     |████████▌                       | 890kB 17.0MB/s eta 0:00:01\r\u001b[K     |████████▋                       | 901kB 17.0MB/s eta 0:00:01\r\u001b[K     |████████▋                       | 911kB 17.0MB/s eta 0:00:01\r\u001b[K     |████████▊                       | 921kB 17.0MB/s eta 0:00:01\r\u001b[K     |████████▉                       | 931kB 17.0MB/s eta 0:00:01\r\u001b[K     |█████████                       | 942kB 17.0MB/s eta 0:00:01\r\u001b[K     |█████████                       | 952kB 17.0MB/s eta 0:00:01\r\u001b[K     |█████████▏                      | 962kB 17.0MB/s eta 0:00:01\r\u001b[K     |█████████▎                      | 972kB 17.0MB/s eta 0:00:01\r\u001b[K     |█████████▍                      | 983kB 17.0MB/s eta 0:00:01\r\u001b[K     |█████████▌                      | 993kB 17.0MB/s eta 0:00:01\r\u001b[K     |█████████▌                      | 1.0MB 17.0MB/s eta 0:00:01\r\u001b[K     |█████████▋                      | 1.0MB 17.0MB/s eta 0:00:01\r\u001b[K     |█████████▊                      | 1.0MB 17.0MB/s eta 0:00:01\r\u001b[K     |█████████▉                      | 1.0MB 17.0MB/s eta 0:00:01\r\u001b[K     |██████████                      | 1.0MB 17.0MB/s eta 0:00:01\r\u001b[K     |██████████                      | 1.1MB 17.0MB/s eta 0:00:01\r\u001b[K     |██████████▏                     | 1.1MB 17.0MB/s eta 0:00:01\r\u001b[K     |██████████▎                     | 1.1MB 17.0MB/s eta 0:00:01\r\u001b[K     |██████████▎                     | 1.1MB 17.0MB/s eta 0:00:01\r\u001b[K     |██████████▍                     | 1.1MB 17.0MB/s eta 0:00:01\r\u001b[K     |██████████▌                     | 1.1MB 17.0MB/s eta 0:00:01\r\u001b[K     |██████████▋                     | 1.1MB 17.0MB/s eta 0:00:01\r\u001b[K     |██████████▊                     | 1.1MB 17.0MB/s eta 0:00:01\r\u001b[K     |██████████▉                     | 1.1MB 17.0MB/s eta 0:00:01\r\u001b[K     |███████████                     | 1.1MB 17.0MB/s eta 0:00:01\r\u001b[K     |███████████                     | 1.2MB 17.0MB/s eta 0:00:01\r\u001b[K     |███████████                     | 1.2MB 17.0MB/s eta 0:00:01\r\u001b[K     |███████████▏                    | 1.2MB 17.0MB/s eta 0:00:01\r\u001b[K     |███████████▎                    | 1.2MB 17.0MB/s eta 0:00:01\r\u001b[K     |███████████▍                    | 1.2MB 17.0MB/s eta 0:00:01\r\u001b[K     |███████████▌                    | 1.2MB 17.0MB/s eta 0:00:01\r\u001b[K     |███████████▋                    | 1.2MB 17.0MB/s eta 0:00:01\r\u001b[K     |███████████▊                    | 1.2MB 17.0MB/s eta 0:00:01\r\u001b[K     |███████████▉                    | 1.2MB 17.0MB/s eta 0:00:01\r\u001b[K     |███████████▉                    | 1.2MB 17.0MB/s eta 0:00:01\r\u001b[K     |████████████                    | 1.3MB 17.0MB/s eta 0:00:01\r\u001b[K     |████████████                    | 1.3MB 17.0MB/s eta 0:00:01\r\u001b[K     |████████████▏                   | 1.3MB 17.0MB/s eta 0:00:01\r\u001b[K     |████████████▎                   | 1.3MB 17.0MB/s eta 0:00:01\r\u001b[K     |████████████▍                   | 1.3MB 17.0MB/s eta 0:00:01\r\u001b[K     |████████████▌                   | 1.3MB 17.0MB/s eta 0:00:01\r\u001b[K     |████████████▋                   | 1.3MB 17.0MB/s eta 0:00:01\r\u001b[K     |████████████▋                   | 1.3MB 17.0MB/s eta 0:00:01\r\u001b[K     |████████████▊                   | 1.3MB 17.0MB/s eta 0:00:01\r\u001b[K     |████████████▉                   | 1.4MB 17.0MB/s eta 0:00:01\r\u001b[K     |█████████████                   | 1.4MB 17.0MB/s eta 0:00:01\r\u001b[K     |█████████████                   | 1.4MB 17.0MB/s eta 0:00:01\r\u001b[K     |█████████████▏                  | 1.4MB 17.0MB/s eta 0:00:01\r\u001b[K     |█████████████▎                  | 1.4MB 17.0MB/s eta 0:00:01\r\u001b[K     |█████████████▍                  | 1.4MB 17.0MB/s eta 0:00:01\r\u001b[K     |█████████████▍                  | 1.4MB 17.0MB/s eta 0:00:01\r\u001b[K     |█████████████▌                  | 1.4MB 17.0MB/s eta 0:00:01\r\u001b[K     |█████████████▋                  | 1.4MB 17.0MB/s eta 0:00:01\r\u001b[K     |█████████████▊                  | 1.4MB 17.0MB/s eta 0:00:01\r\u001b[K     |█████████████▉                  | 1.5MB 17.0MB/s eta 0:00:01\r\u001b[K     |██████████████                  | 1.5MB 17.0MB/s eta 0:00:01\r\u001b[K     |██████████████                  | 1.5MB 17.0MB/s eta 0:00:01\r\u001b[K     |██████████████▏                 | 1.5MB 17.0MB/s eta 0:00:01\r\u001b[K     |██████████████▏                 | 1.5MB 17.0MB/s eta 0:00:01\r\u001b[K     |██████████████▎                 | 1.5MB 17.0MB/s eta 0:00:01\r\u001b[K     |██████████████▍                 | 1.5MB 17.0MB/s eta 0:00:01\r\u001b[K     |██████████████▌                 | 1.5MB 17.0MB/s eta 0:00:01\r\u001b[K     |██████████████▋                 | 1.5MB 17.0MB/s eta 0:00:01\r\u001b[K     |██████████████▊                 | 1.5MB 17.0MB/s eta 0:00:01\r\u001b[K     |██████████████▉                 | 1.6MB 17.0MB/s eta 0:00:01\r\u001b[K     |███████████████                 | 1.6MB 17.0MB/s eta 0:00:01\r\u001b[K     |███████████████                 | 1.6MB 17.0MB/s eta 0:00:01\r\u001b[K     |███████████████                 | 1.6MB 17.0MB/s eta 0:00:01\r\u001b[K     |███████████████▏                | 1.6MB 17.0MB/s eta 0:00:01\r\u001b[K     |███████████████▎                | 1.6MB 17.0MB/s eta 0:00:01\r\u001b[K     |███████████████▍                | 1.6MB 17.0MB/s eta 0:00:01\r\u001b[K     |███████████████▌                | 1.6MB 17.0MB/s eta 0:00:01\r\u001b[K     |███████████████▋                | 1.6MB 17.0MB/s eta 0:00:01\r\u001b[K     |███████████████▊                | 1.6MB 17.0MB/s eta 0:00:01\r\u001b[K     |███████████████▊                | 1.7MB 17.0MB/s eta 0:00:01\r\u001b[K     |███████████████▉                | 1.7MB 17.0MB/s eta 0:00:01\r\u001b[K     |████████████████                | 1.7MB 17.0MB/s eta 0:00:01\r\u001b[K     |████████████████                | 1.7MB 17.0MB/s eta 0:00:01\r\u001b[K     |████████████████▏               | 1.7MB 17.0MB/s eta 0:00:01\r\u001b[K     |████████████████▎               | 1.7MB 17.0MB/s eta 0:00:01\r\u001b[K     |████████████████▍               | 1.7MB 17.0MB/s eta 0:00:01\r\u001b[K     |████████████████▌               | 1.7MB 17.0MB/s eta 0:00:01\r\u001b[K     |████████████████▌               | 1.7MB 17.0MB/s eta 0:00:01\r\u001b[K     |████████████████▋               | 1.8MB 17.0MB/s eta 0:00:01\r\u001b[K     |████████████████▊               | 1.8MB 17.0MB/s eta 0:00:01\r\u001b[K     |████████████████▉               | 1.8MB 17.0MB/s eta 0:00:01\r\u001b[K     |█████████████████               | 1.8MB 17.0MB/s eta 0:00:01\r\u001b[K     |█████████████████               | 1.8MB 17.0MB/s eta 0:00:01\r\u001b[K     |█████████████████▏              | 1.8MB 17.0MB/s eta 0:00:01\r\u001b[K     |█████████████████▎              | 1.8MB 17.0MB/s eta 0:00:01\r\u001b[K     |█████████████████▎              | 1.8MB 17.0MB/s eta 0:00:01\r\u001b[K     |█████████████████▍              | 1.8MB 17.0MB/s eta 0:00:01\r\u001b[K     |█████████████████▌              | 1.8MB 17.0MB/s eta 0:00:01\r\u001b[K     |█████████████████▋              | 1.9MB 17.0MB/s eta 0:00:01\r\u001b[K     |█████████████████▊              | 1.9MB 17.0MB/s eta 0:00:01\r\u001b[K     |█████████████████▉              | 1.9MB 17.0MB/s eta 0:00:01\r\u001b[K     |██████████████████              | 1.9MB 17.0MB/s eta 0:00:01\r\u001b[K     |██████████████████              | 1.9MB 17.0MB/s eta 0:00:01\r\u001b[K     |██████████████████              | 1.9MB 17.0MB/s eta 0:00:01\r\u001b[K     |██████████████████▏             | 1.9MB 17.0MB/s eta 0:00:01\r\u001b[K     |██████████████████▎             | 1.9MB 17.0MB/s eta 0:00:01\r\u001b[K     |██████████████████▍             | 1.9MB 17.0MB/s eta 0:00:01\r\u001b[K     |██████████████████▌             | 1.9MB 17.0MB/s eta 0:00:01\r\u001b[K     |██████████████████▋             | 2.0MB 17.0MB/s eta 0:00:01\r\u001b[K     |██████████████████▊             | 2.0MB 17.0MB/s eta 0:00:01\r\u001b[K     |██████████████████▉             | 2.0MB 17.0MB/s eta 0:00:01\r\u001b[K     |███████████████████             | 2.0MB 17.0MB/s eta 0:00:01\r\u001b[K     |███████████████████             | 2.0MB 17.0MB/s eta 0:00:01\r\u001b[K     |███████████████████             | 2.0MB 17.0MB/s eta 0:00:01\r\u001b[K     |███████████████████▏            | 2.0MB 17.0MB/s eta 0:00:01\r\u001b[K     |███████████████████▎            | 2.0MB 17.0MB/s eta 0:00:01\r\u001b[K     |███████████████████▍            | 2.0MB 17.0MB/s eta 0:00:01\r\u001b[K     |███████████████████▌            | 2.0MB 17.0MB/s eta 0:00:01\r\u001b[K     |███████████████████▋            | 2.1MB 17.0MB/s eta 0:00:01\r\u001b[K     |███████████████████▊            | 2.1MB 17.0MB/s eta 0:00:01\r\u001b[K     |███████████████████▊            | 2.1MB 17.0MB/s eta 0:00:01\r\u001b[K     |███████████████████▉            | 2.1MB 17.0MB/s eta 0:00:01\r\u001b[K     |████████████████████            | 2.1MB 17.0MB/s eta 0:00:01\r\u001b[K     |████████████████████            | 2.1MB 17.0MB/s eta 0:00:01\r\u001b[K     |████████████████████▏           | 2.1MB 17.0MB/s eta 0:00:01\r\u001b[K     |████████████████████▎           | 2.1MB 17.0MB/s eta 0:00:01\r\u001b[K     |████████████████████▍           | 2.1MB 17.0MB/s eta 0:00:01\r\u001b[K     |████████████████████▌           | 2.2MB 17.0MB/s eta 0:00:01\r\u001b[K     |████████████████████▌           | 2.2MB 17.0MB/s eta 0:00:01\r\u001b[K     |████████████████████▋           | 2.2MB 17.0MB/s eta 0:00:01\r\u001b[K     |████████████████████▊           | 2.2MB 17.0MB/s eta 0:00:01\r\u001b[K     |████████████████████▉           | 2.2MB 17.0MB/s eta 0:00:01\r\u001b[K     |█████████████████████           | 2.2MB 17.0MB/s eta 0:00:01\r\u001b[K     |█████████████████████           | 2.2MB 17.0MB/s eta 0:00:01\r\u001b[K     |█████████████████████▏          | 2.2MB 17.0MB/s eta 0:00:01\r\u001b[K     |█████████████████████▎          | 2.2MB 17.0MB/s eta 0:00:01\r\u001b[K     |█████████████████████▎          | 2.2MB 17.0MB/s eta 0:00:01\r\u001b[K     |█████████████████████▍          | 2.3MB 17.0MB/s eta 0:00:01\r\u001b[K     |█████████████████████▌          | 2.3MB 17.0MB/s eta 0:00:01\r\u001b[K     |█████████████████████▋          | 2.3MB 17.0MB/s eta 0:00:01\r\u001b[K     |█████████████████████▊          | 2.3MB 17.0MB/s eta 0:00:01\r\u001b[K     |█████████████████████▉          | 2.3MB 17.0MB/s eta 0:00:01\r\u001b[K     |██████████████████████          | 2.3MB 17.0MB/s eta 0:00:01\r\u001b[K     |██████████████████████          | 2.3MB 17.0MB/s eta 0:00:01\r\u001b[K     |██████████████████████          | 2.3MB 17.0MB/s eta 0:00:01\r\u001b[K     |██████████████████████▏         | 2.3MB 17.0MB/s eta 0:00:01\r\u001b[K     |██████████████████████▎         | 2.3MB 17.0MB/s eta 0:00:01\r\u001b[K     |██████████████████████▍         | 2.4MB 17.0MB/s eta 0:00:01\r\u001b[K     |██████████████████████▌         | 2.4MB 17.0MB/s eta 0:00:01\r\u001b[K     |██████████████████████▋         | 2.4MB 17.0MB/s eta 0:00:01\r\u001b[K     |██████████████████████▊         | 2.4MB 17.0MB/s eta 0:00:01\r\u001b[K     |██████████████████████▉         | 2.4MB 17.0MB/s eta 0:00:01\r\u001b[K     |██████████████████████▉         | 2.4MB 17.0MB/s eta 0:00:01\r\u001b[K     |███████████████████████         | 2.4MB 17.0MB/s eta 0:00:01\r\u001b[K     |███████████████████████         | 2.4MB 17.0MB/s eta 0:00:01\r\u001b[K     |███████████████████████▏        | 2.4MB 17.0MB/s eta 0:00:01\r\u001b[K     |███████████████████████▎        | 2.4MB 17.0MB/s eta 0:00:01\r\u001b[K     |███████████████████████▍        | 2.5MB 17.0MB/s eta 0:00:01\r\u001b[K     |███████████████████████▌        | 2.5MB 17.0MB/s eta 0:00:01\r\u001b[K     |███████████████████████▋        | 2.5MB 17.0MB/s eta 0:00:01\r\u001b[K     |███████████████████████▋        | 2.5MB 17.0MB/s eta 0:00:01\r\u001b[K     |███████████████████████▊        | 2.5MB 17.0MB/s eta 0:00:01\r\u001b[K     |███████████████████████▉        | 2.5MB 17.0MB/s eta 0:00:01\r\u001b[K     |████████████████████████        | 2.5MB 17.0MB/s eta 0:00:01\r\u001b[K     |████████████████████████        | 2.5MB 17.0MB/s eta 0:00:01\r\u001b[K     |████████████████████████▏       | 2.5MB 17.0MB/s eta 0:00:01\r\u001b[K     |████████████████████████▎       | 2.5MB 17.0MB/s eta 0:00:01\r\u001b[K     |████████████████████████▍       | 2.6MB 17.0MB/s eta 0:00:01\r\u001b[K     |████████████████████████▍       | 2.6MB 17.0MB/s eta 0:00:01\r\u001b[K     |████████████████████████▌       | 2.6MB 17.0MB/s eta 0:00:01\r\u001b[K     |████████████████████████▋       | 2.6MB 17.0MB/s eta 0:00:01\r\u001b[K     |████████████████████████▊       | 2.6MB 17.0MB/s eta 0:00:01\r\u001b[K     |████████████████████████▉       | 2.6MB 17.0MB/s eta 0:00:01\r\u001b[K     |█████████████████████████       | 2.6MB 17.0MB/s eta 0:00:01\r\u001b[K     |█████████████████████████       | 2.6MB 17.0MB/s eta 0:00:01\r\u001b[K     |█████████████████████████▏      | 2.6MB 17.0MB/s eta 0:00:01\r\u001b[K     |█████████████████████████▏      | 2.7MB 17.0MB/s eta 0:00:01\r\u001b[K     |█████████████████████████▎      | 2.7MB 17.0MB/s eta 0:00:01\r\u001b[K     |█████████████████████████▍      | 2.7MB 17.0MB/s eta 0:00:01\r\u001b[K     |█████████████████████████▌      | 2.7MB 17.0MB/s eta 0:00:01\r\u001b[K     |█████████████████████████▋      | 2.7MB 17.0MB/s eta 0:00:01\r\u001b[K     |█████████████████████████▊      | 2.7MB 17.0MB/s eta 0:00:01\r\u001b[K     |█████████████████████████▉      | 2.7MB 17.0MB/s eta 0:00:01\r\u001b[K     |██████████████████████████      | 2.7MB 17.0MB/s eta 0:00:01\r\u001b[K     |██████████████████████████      | 2.7MB 17.0MB/s eta 0:00:01\r\u001b[K     |██████████████████████████      | 2.7MB 17.0MB/s eta 0:00:01\r\u001b[K     |██████████████████████████▏     | 2.8MB 17.0MB/s eta 0:00:01\r\u001b[K     |██████████████████████████▎     | 2.8MB 17.0MB/s eta 0:00:01\r\u001b[K     |██████████████████████████▍     | 2.8MB 17.0MB/s eta 0:00:01\r\u001b[K     |██████████████████████████▌     | 2.8MB 17.0MB/s eta 0:00:01\r\u001b[K     |██████████████████████████▋     | 2.8MB 17.0MB/s eta 0:00:01\r\u001b[K     |██████████████████████████▊     | 2.8MB 17.0MB/s eta 0:00:01\r\u001b[K     |██████████████████████████▊     | 2.8MB 17.0MB/s eta 0:00:01\r\u001b[K     |██████████████████████████▉     | 2.8MB 17.0MB/s eta 0:00:01\r\u001b[K     |███████████████████████████     | 2.8MB 17.0MB/s eta 0:00:01\r\u001b[K     |███████████████████████████     | 2.8MB 17.0MB/s eta 0:00:01\r\u001b[K     |███████████████████████████▏    | 2.9MB 17.0MB/s eta 0:00:01\r\u001b[K     |███████████████████████████▎    | 2.9MB 17.0MB/s eta 0:00:01\r\u001b[K     |███████████████████████████▍    | 2.9MB 17.0MB/s eta 0:00:01\r\u001b[K     |███████████████████████████▌    | 2.9MB 17.0MB/s eta 0:00:01\r\u001b[K     |███████████████████████████▌    | 2.9MB 17.0MB/s eta 0:00:01\r\u001b[K     |███████████████████████████▋    | 2.9MB 17.0MB/s eta 0:00:01\r\u001b[K     |███████████████████████████▊    | 2.9MB 17.0MB/s eta 0:00:01\r\u001b[K     |███████████████████████████▉    | 2.9MB 17.0MB/s eta 0:00:01\r\u001b[K     |████████████████████████████    | 2.9MB 17.0MB/s eta 0:00:01\r\u001b[K     |████████████████████████████    | 2.9MB 17.0MB/s eta 0:00:01\r\u001b[K     |████████████████████████████▏   | 3.0MB 17.0MB/s eta 0:00:01\r\u001b[K     |████████████████████████████▎   | 3.0MB 17.0MB/s eta 0:00:01\r\u001b[K     |████████████████████████████▍   | 3.0MB 17.0MB/s eta 0:00:01\r\u001b[K     |████████████████████████████▍   | 3.0MB 17.0MB/s eta 0:00:01\r\u001b[K     |████████████████████████████▌   | 3.0MB 17.0MB/s eta 0:00:01\r\u001b[K     |████████████████████████████▋   | 3.0MB 17.0MB/s eta 0:00:01\r\u001b[K     |████████████████████████████▊   | 3.0MB 17.0MB/s eta 0:00:01\r\u001b[K     |████████████████████████████▉   | 3.0MB 17.0MB/s eta 0:00:01\r\u001b[K     |█████████████████████████████   | 3.0MB 17.0MB/s eta 0:00:01\r\u001b[K     |█████████████████████████████   | 3.1MB 17.0MB/s eta 0:00:01\r\u001b[K     |█████████████████████████████▏  | 3.1MB 17.0MB/s eta 0:00:01\r\u001b[K     |█████████████████████████████▏  | 3.1MB 17.0MB/s eta 0:00:01\r\u001b[K     |█████████████████████████████▎  | 3.1MB 17.0MB/s eta 0:00:01\r\u001b[K     |█████████████████████████████▍  | 3.1MB 17.0MB/s eta 0:00:01\r\u001b[K     |█████████████████████████████▌  | 3.1MB 17.0MB/s eta 0:00:01\r\u001b[K     |█████████████████████████████▋  | 3.1MB 17.0MB/s eta 0:00:01\r\u001b[K     |█████████████████████████████▊  | 3.1MB 17.0MB/s eta 0:00:01\r\u001b[K     |█████████████████████████████▉  | 3.1MB 17.0MB/s eta 0:00:01\r\u001b[K     |██████████████████████████████  | 3.1MB 17.0MB/s eta 0:00:01\r\u001b[K     |██████████████████████████████  | 3.2MB 17.0MB/s eta 0:00:01\r\u001b[K     |██████████████████████████████  | 3.2MB 17.0MB/s eta 0:00:01\r\u001b[K     |██████████████████████████████▏ | 3.2MB 17.0MB/s eta 0:00:01\r\u001b[K     |██████████████████████████████▎ | 3.2MB 17.0MB/s eta 0:00:01\r\u001b[K     |██████████████████████████████▍ | 3.2MB 17.0MB/s eta 0:00:01\r\u001b[K     |██████████████████████████████▌ | 3.2MB 17.0MB/s eta 0:00:01\r\u001b[K     |██████████████████████████████▋ | 3.2MB 17.0MB/s eta 0:00:01\r\u001b[K     |██████████████████████████████▊ | 3.2MB 17.0MB/s eta 0:00:01\r\u001b[K     |██████████████████████████████▊ | 3.2MB 17.0MB/s eta 0:00:01\r\u001b[K     |██████████████████████████████▉ | 3.2MB 17.0MB/s eta 0:00:01\r\u001b[K     |███████████████████████████████ | 3.3MB 17.0MB/s eta 0:00:01\r\u001b[K     |███████████████████████████████ | 3.3MB 17.0MB/s eta 0:00:01\r\u001b[K     |███████████████████████████████▏| 3.3MB 17.0MB/s eta 0:00:01\r\u001b[K     |███████████████████████████████▎| 3.3MB 17.0MB/s eta 0:00:01\r\u001b[K     |███████████████████████████████▍| 3.3MB 17.0MB/s eta 0:00:01\r\u001b[K     |███████████████████████████████▌| 3.3MB 17.0MB/s eta 0:00:01\r\u001b[K     |███████████████████████████████▌| 3.3MB 17.0MB/s eta 0:00:01\r\u001b[K     |███████████████████████████████▋| 3.3MB 17.0MB/s eta 0:00:01\r\u001b[K     |███████████████████████████████▊| 3.3MB 17.0MB/s eta 0:00:01\r\u001b[K     |███████████████████████████████▉| 3.3MB 17.0MB/s eta 0:00:01\r\u001b[K     |████████████████████████████████| 3.4MB 17.0MB/s eta 0:00:01\r\u001b[K     |████████████████████████████████| 3.4MB 17.0MB/s \n",
            "\u001b[?25hRequirement already satisfied: tensorflow-hub>=0.8.0 in /usr/local/lib/python3.7/dist-packages (from tensorflow_text) (0.12.0)\n",
            "Requirement already satisfied: tensorflow<2.5,>=2.4.0 in /usr/local/lib/python3.7/dist-packages (from tensorflow_text) (2.4.1)\n",
            "Requirement already satisfied: protobuf>=3.8.0 in /usr/local/lib/python3.7/dist-packages (from tensorflow-hub>=0.8.0->tensorflow_text) (3.12.4)\n",
            "Requirement already satisfied: numpy>=1.12.0 in /usr/local/lib/python3.7/dist-packages (from tensorflow-hub>=0.8.0->tensorflow_text) (1.19.5)\n",
            "Requirement already satisfied: absl-py~=0.10 in /usr/local/lib/python3.7/dist-packages (from tensorflow<2.5,>=2.4.0->tensorflow_text) (0.12.0)\n",
            "Requirement already satisfied: termcolor~=1.1.0 in /usr/local/lib/python3.7/dist-packages (from tensorflow<2.5,>=2.4.0->tensorflow_text) (1.1.0)\n",
            "Requirement already satisfied: tensorflow-estimator<2.5.0,>=2.4.0 in /usr/local/lib/python3.7/dist-packages (from tensorflow<2.5,>=2.4.0->tensorflow_text) (2.4.0)\n",
            "Requirement already satisfied: astunparse~=1.6.3 in /usr/local/lib/python3.7/dist-packages (from tensorflow<2.5,>=2.4.0->tensorflow_text) (1.6.3)\n",
            "Requirement already satisfied: google-pasta~=0.2 in /usr/local/lib/python3.7/dist-packages (from tensorflow<2.5,>=2.4.0->tensorflow_text) (0.2.0)\n",
            "Requirement already satisfied: grpcio~=1.32.0 in /usr/local/lib/python3.7/dist-packages (from tensorflow<2.5,>=2.4.0->tensorflow_text) (1.32.0)\n",
            "Requirement already satisfied: gast==0.3.3 in /usr/local/lib/python3.7/dist-packages (from tensorflow<2.5,>=2.4.0->tensorflow_text) (0.3.3)\n",
            "Requirement already satisfied: keras-preprocessing~=1.1.2 in /usr/local/lib/python3.7/dist-packages (from tensorflow<2.5,>=2.4.0->tensorflow_text) (1.1.2)\n",
            "Requirement already satisfied: h5py~=2.10.0 in /usr/local/lib/python3.7/dist-packages (from tensorflow<2.5,>=2.4.0->tensorflow_text) (2.10.0)\n",
            "Requirement already satisfied: wheel~=0.35 in /usr/local/lib/python3.7/dist-packages (from tensorflow<2.5,>=2.4.0->tensorflow_text) (0.36.2)\n",
            "Requirement already satisfied: tensorboard~=2.4 in /usr/local/lib/python3.7/dist-packages (from tensorflow<2.5,>=2.4.0->tensorflow_text) (2.4.1)\n",
            "Requirement already satisfied: opt-einsum~=3.3.0 in /usr/local/lib/python3.7/dist-packages (from tensorflow<2.5,>=2.4.0->tensorflow_text) (3.3.0)\n",
            "Requirement already satisfied: typing-extensions~=3.7.4 in /usr/local/lib/python3.7/dist-packages (from tensorflow<2.5,>=2.4.0->tensorflow_text) (3.7.4.3)\n",
            "Requirement already satisfied: wrapt~=1.12.1 in /usr/local/lib/python3.7/dist-packages (from tensorflow<2.5,>=2.4.0->tensorflow_text) (1.12.1)\n",
            "Requirement already satisfied: six~=1.15.0 in /usr/local/lib/python3.7/dist-packages (from tensorflow<2.5,>=2.4.0->tensorflow_text) (1.15.0)\n",
            "Requirement already satisfied: flatbuffers~=1.12.0 in /usr/local/lib/python3.7/dist-packages (from tensorflow<2.5,>=2.4.0->tensorflow_text) (1.12)\n",
            "Requirement already satisfied: setuptools in /usr/local/lib/python3.7/dist-packages (from protobuf>=3.8.0->tensorflow-hub>=0.8.0->tensorflow_text) (54.2.0)\n",
            "Requirement already satisfied: werkzeug>=0.11.15 in /usr/local/lib/python3.7/dist-packages (from tensorboard~=2.4->tensorflow<2.5,>=2.4.0->tensorflow_text) (1.0.1)\n",
            "Requirement already satisfied: markdown>=2.6.8 in /usr/local/lib/python3.7/dist-packages (from tensorboard~=2.4->tensorflow<2.5,>=2.4.0->tensorflow_text) (3.3.4)\n",
            "Requirement already satisfied: google-auth-oauthlib<0.5,>=0.4.1 in /usr/local/lib/python3.7/dist-packages (from tensorboard~=2.4->tensorflow<2.5,>=2.4.0->tensorflow_text) (0.4.4)\n",
            "Requirement already satisfied: requests<3,>=2.21.0 in /usr/local/lib/python3.7/dist-packages (from tensorboard~=2.4->tensorflow<2.5,>=2.4.0->tensorflow_text) (2.23.0)\n",
            "Requirement already satisfied: tensorboard-plugin-wit>=1.6.0 in /usr/local/lib/python3.7/dist-packages (from tensorboard~=2.4->tensorflow<2.5,>=2.4.0->tensorflow_text) (1.8.0)\n",
            "Requirement already satisfied: google-auth<2,>=1.6.3 in /usr/local/lib/python3.7/dist-packages (from tensorboard~=2.4->tensorflow<2.5,>=2.4.0->tensorflow_text) (1.28.1)\n",
            "Requirement already satisfied: importlib-metadata; python_version < \"3.8\" in /usr/local/lib/python3.7/dist-packages (from markdown>=2.6.8->tensorboard~=2.4->tensorflow<2.5,>=2.4.0->tensorflow_text) (3.10.1)\n",
            "Requirement already satisfied: requests-oauthlib>=0.7.0 in /usr/local/lib/python3.7/dist-packages (from google-auth-oauthlib<0.5,>=0.4.1->tensorboard~=2.4->tensorflow<2.5,>=2.4.0->tensorflow_text) (1.3.0)\n",
            "Requirement already satisfied: chardet<4,>=3.0.2 in /usr/local/lib/python3.7/dist-packages (from requests<3,>=2.21.0->tensorboard~=2.4->tensorflow<2.5,>=2.4.0->tensorflow_text) (3.0.4)\n",
            "Requirement already satisfied: urllib3!=1.25.0,!=1.25.1,<1.26,>=1.21.1 in /usr/local/lib/python3.7/dist-packages (from requests<3,>=2.21.0->tensorboard~=2.4->tensorflow<2.5,>=2.4.0->tensorflow_text) (1.24.3)\n",
            "Requirement already satisfied: idna<3,>=2.5 in /usr/local/lib/python3.7/dist-packages (from requests<3,>=2.21.0->tensorboard~=2.4->tensorflow<2.5,>=2.4.0->tensorflow_text) (2.10)\n",
            "Requirement already satisfied: certifi>=2017.4.17 in /usr/local/lib/python3.7/dist-packages (from requests<3,>=2.21.0->tensorboard~=2.4->tensorflow<2.5,>=2.4.0->tensorflow_text) (2020.12.5)\n",
            "Requirement already satisfied: pyasn1-modules>=0.2.1 in /usr/local/lib/python3.7/dist-packages (from google-auth<2,>=1.6.3->tensorboard~=2.4->tensorflow<2.5,>=2.4.0->tensorflow_text) (0.2.8)\n",
            "Requirement already satisfied: cachetools<5.0,>=2.0.0 in /usr/local/lib/python3.7/dist-packages (from google-auth<2,>=1.6.3->tensorboard~=2.4->tensorflow<2.5,>=2.4.0->tensorflow_text) (4.2.1)\n",
            "Requirement already satisfied: rsa<5,>=3.1.4; python_version >= \"3.6\" in /usr/local/lib/python3.7/dist-packages (from google-auth<2,>=1.6.3->tensorboard~=2.4->tensorflow<2.5,>=2.4.0->tensorflow_text) (4.7.2)\n",
            "Requirement already satisfied: zipp>=0.5 in /usr/local/lib/python3.7/dist-packages (from importlib-metadata; python_version < \"3.8\"->markdown>=2.6.8->tensorboard~=2.4->tensorflow<2.5,>=2.4.0->tensorflow_text) (3.4.1)\n",
            "Requirement already satisfied: oauthlib>=3.0.0 in /usr/local/lib/python3.7/dist-packages (from requests-oauthlib>=0.7.0->google-auth-oauthlib<0.5,>=0.4.1->tensorboard~=2.4->tensorflow<2.5,>=2.4.0->tensorflow_text) (3.1.0)\n",
            "Requirement already satisfied: pyasn1<0.5.0,>=0.4.6 in /usr/local/lib/python3.7/dist-packages (from pyasn1-modules>=0.2.1->google-auth<2,>=1.6.3->tensorboard~=2.4->tensorflow<2.5,>=2.4.0->tensorflow_text) (0.4.8)\n",
            "Installing collected packages: tensorflow-text\n",
            "Successfully installed tensorflow-text-2.4.3\n"
          ],
          "name": "stdout"
        }
      ]
    },
    {
      "cell_type": "code",
      "metadata": {
        "colab": {
          "base_uri": "https://localhost:8080/"
        },
        "id": "AWt9IpiHMLTe",
        "outputId": "d36e43b6-0f08-42e2-b1ea-857563464904"
      },
      "source": [
        "pip install tf-models-official"
      ],
      "execution_count": 2,
      "outputs": [
        {
          "output_type": "stream",
          "text": [
            "Collecting tf-models-official\n",
            "\u001b[?25l  Downloading https://files.pythonhosted.org/packages/57/4a/23a08f8fd2747867ee223612e219eeb0d11c36116601d99b55ef3c72e707/tf_models_official-2.4.0-py2.py3-none-any.whl (1.1MB)\n",
            "\u001b[K     |████████████████████████████████| 1.1MB 17.1MB/s \n",
            "\u001b[?25hRequirement already satisfied: scipy>=0.19.1 in /usr/local/lib/python3.7/dist-packages (from tf-models-official) (1.4.1)\n",
            "Requirement already satisfied: pycocotools in /usr/local/lib/python3.7/dist-packages (from tf-models-official) (2.0.2)\n",
            "Requirement already satisfied: tensorflow-datasets in /usr/local/lib/python3.7/dist-packages (from tf-models-official) (4.0.1)\n",
            "Requirement already satisfied: gin-config in /usr/local/lib/python3.7/dist-packages (from tf-models-official) (0.4.0)\n",
            "Requirement already satisfied: Pillow in /usr/local/lib/python3.7/dist-packages (from tf-models-official) (7.1.2)\n",
            "Collecting seqeval\n",
            "\u001b[?25l  Downloading https://files.pythonhosted.org/packages/9d/2d/233c79d5b4e5ab1dbf111242299153f3caddddbb691219f363ad55ce783d/seqeval-1.2.2.tar.gz (43kB)\n",
            "\u001b[K     |████████████████████████████████| 51kB 5.3MB/s \n",
            "\u001b[?25hCollecting opencv-python-headless\n",
            "\u001b[?25l  Downloading https://files.pythonhosted.org/packages/6d/6d/92f377bece9b0ec9c893081dbe073a65b38d7ac12ef572b8f70554d08760/opencv_python_headless-4.5.1.48-cp37-cp37m-manylinux2014_x86_64.whl (37.6MB)\n",
            "\u001b[K     |████████████████████████████████| 37.6MB 1.3MB/s \n",
            "\u001b[?25hCollecting tf-slim>=1.1.0\n",
            "\u001b[?25l  Downloading https://files.pythonhosted.org/packages/02/97/b0f4a64df018ca018cc035d44f2ef08f91e2e8aa67271f6f19633a015ff7/tf_slim-1.1.0-py2.py3-none-any.whl (352kB)\n",
            "\u001b[K     |████████████████████████████████| 358kB 42.2MB/s \n",
            "\u001b[?25hRequirement already satisfied: numpy>=1.15.4 in /usr/local/lib/python3.7/dist-packages (from tf-models-official) (1.19.5)\n",
            "Requirement already satisfied: pandas>=0.22.0 in /usr/local/lib/python3.7/dist-packages (from tf-models-official) (1.1.5)\n",
            "Requirement already satisfied: google-cloud-bigquery>=0.31.0 in /usr/local/lib/python3.7/dist-packages (from tf-models-official) (1.21.0)\n",
            "Requirement already satisfied: Cython in /usr/local/lib/python3.7/dist-packages (from tf-models-official) (0.29.22)\n",
            "Requirement already satisfied: google-api-python-client>=1.6.7 in /usr/local/lib/python3.7/dist-packages (from tf-models-official) (1.12.8)\n",
            "Requirement already satisfied: psutil>=5.4.3 in /usr/local/lib/python3.7/dist-packages (from tf-models-official) (5.4.8)\n",
            "Collecting sentencepiece\n",
            "\u001b[?25l  Downloading https://files.pythonhosted.org/packages/f5/99/e0808cb947ba10f575839c43e8fafc9cc44e4a7a2c8f79c60db48220a577/sentencepiece-0.1.95-cp37-cp37m-manylinux2014_x86_64.whl (1.2MB)\n",
            "\u001b[K     |████████████████████████████████| 1.2MB 29.9MB/s \n",
            "\u001b[?25hCollecting tensorflow-model-optimization>=0.4.1\n",
            "\u001b[?25l  Downloading https://files.pythonhosted.org/packages/55/38/4fd48ea1bfcb0b6e36d949025200426fe9c3a8bfae029f0973d85518fa5a/tensorflow_model_optimization-0.5.0-py2.py3-none-any.whl (172kB)\n",
            "\u001b[K     |████████████████████████████████| 174kB 53.1MB/s \n",
            "\u001b[?25hRequirement already satisfied: tensorflow-hub>=0.6.0 in /usr/local/lib/python3.7/dist-packages (from tf-models-official) (0.12.0)\n",
            "Collecting py-cpuinfo>=3.3.0\n",
            "\u001b[?25l  Downloading https://files.pythonhosted.org/packages/e6/ba/77120e44cbe9719152415b97d5bfb29f4053ee987d6cb63f55ce7d50fadc/py-cpuinfo-8.0.0.tar.gz (99kB)\n",
            "\u001b[K     |████████████████████████████████| 102kB 9.4MB/s \n",
            "\u001b[?25hRequirement already satisfied: kaggle>=1.3.9 in /usr/local/lib/python3.7/dist-packages (from tf-models-official) (1.5.12)\n",
            "Requirement already satisfied: oauth2client in /usr/local/lib/python3.7/dist-packages (from tf-models-official) (4.1.3)\n",
            "Collecting tensorflow-addons\n",
            "\u001b[?25l  Downloading https://files.pythonhosted.org/packages/74/e3/56d2fe76f0bb7c88ed9b2a6a557e25e83e252aec08f13de34369cd850a0b/tensorflow_addons-0.12.1-cp37-cp37m-manylinux2010_x86_64.whl (703kB)\n",
            "\u001b[K     |████████████████████████████████| 706kB 43.2MB/s \n",
            "\u001b[?25hCollecting pyyaml>=5.1\n",
            "\u001b[?25l  Downloading https://files.pythonhosted.org/packages/7a/a5/393c087efdc78091afa2af9f1378762f9821c9c1d7a22c5753fb5ac5f97a/PyYAML-5.4.1-cp37-cp37m-manylinux1_x86_64.whl (636kB)\n",
            "\u001b[K     |████████████████████████████████| 645kB 45.6MB/s \n",
            "\u001b[?25hRequirement already satisfied: six in /usr/local/lib/python3.7/dist-packages (from tf-models-official) (1.15.0)\n",
            "Collecting dataclasses\n",
            "  Downloading https://files.pythonhosted.org/packages/26/2f/1095cdc2868052dd1e64520f7c0d5c8c550ad297e944e641dbf1ffbb9a5d/dataclasses-0.6-py3-none-any.whl\n",
            "Requirement already satisfied: tensorflow>=2.4.0 in /usr/local/lib/python3.7/dist-packages (from tf-models-official) (2.4.1)\n",
            "Requirement already satisfied: matplotlib in /usr/local/lib/python3.7/dist-packages (from tf-models-official) (3.2.2)\n",
            "Requirement already satisfied: setuptools>=18.0 in /usr/local/lib/python3.7/dist-packages (from pycocotools->tf-models-official) (54.2.0)\n",
            "Requirement already satisfied: protobuf>=3.6.1 in /usr/local/lib/python3.7/dist-packages (from tensorflow-datasets->tf-models-official) (3.12.4)\n",
            "Requirement already satisfied: requests>=2.19.0 in /usr/local/lib/python3.7/dist-packages (from tensorflow-datasets->tf-models-official) (2.23.0)\n",
            "Requirement already satisfied: termcolor in /usr/local/lib/python3.7/dist-packages (from tensorflow-datasets->tf-models-official) (1.1.0)\n",
            "Requirement already satisfied: dill in /usr/local/lib/python3.7/dist-packages (from tensorflow-datasets->tf-models-official) (0.3.3)\n",
            "Requirement already satisfied: promise in /usr/local/lib/python3.7/dist-packages (from tensorflow-datasets->tf-models-official) (2.3)\n",
            "Requirement already satisfied: tensorflow-metadata in /usr/local/lib/python3.7/dist-packages (from tensorflow-datasets->tf-models-official) (0.29.0)\n",
            "Requirement already satisfied: attrs>=18.1.0 in /usr/local/lib/python3.7/dist-packages (from tensorflow-datasets->tf-models-official) (20.3.0)\n",
            "Requirement already satisfied: tqdm in /usr/local/lib/python3.7/dist-packages (from tensorflow-datasets->tf-models-official) (4.41.1)\n",
            "Requirement already satisfied: importlib-resources; python_version < \"3.9\" in /usr/local/lib/python3.7/dist-packages (from tensorflow-datasets->tf-models-official) (5.1.2)\n",
            "Requirement already satisfied: dm-tree in /usr/local/lib/python3.7/dist-packages (from tensorflow-datasets->tf-models-official) (0.1.6)\n",
            "Requirement already satisfied: future in /usr/local/lib/python3.7/dist-packages (from tensorflow-datasets->tf-models-official) (0.16.0)\n",
            "Requirement already satisfied: absl-py in /usr/local/lib/python3.7/dist-packages (from tensorflow-datasets->tf-models-official) (0.12.0)\n",
            "Requirement already satisfied: scikit-learn>=0.21.3 in /usr/local/lib/python3.7/dist-packages (from seqeval->tf-models-official) (0.22.2.post1)\n",
            "Requirement already satisfied: pytz>=2017.2 in /usr/local/lib/python3.7/dist-packages (from pandas>=0.22.0->tf-models-official) (2018.9)\n",
            "Requirement already satisfied: python-dateutil>=2.7.3 in /usr/local/lib/python3.7/dist-packages (from pandas>=0.22.0->tf-models-official) (2.8.1)\n",
            "Requirement already satisfied: google-resumable-media!=0.4.0,<0.5.0dev,>=0.3.1 in /usr/local/lib/python3.7/dist-packages (from google-cloud-bigquery>=0.31.0->tf-models-official) (0.4.1)\n",
            "Requirement already satisfied: google-cloud-core<2.0dev,>=1.0.3 in /usr/local/lib/python3.7/dist-packages (from google-cloud-bigquery>=0.31.0->tf-models-official) (1.0.3)\n",
            "Requirement already satisfied: google-auth>=1.16.0 in /usr/local/lib/python3.7/dist-packages (from google-api-python-client>=1.6.7->tf-models-official) (1.28.1)\n",
            "Requirement already satisfied: google-api-core<2dev,>=1.21.0 in /usr/local/lib/python3.7/dist-packages (from google-api-python-client>=1.6.7->tf-models-official) (1.26.3)\n",
            "Requirement already satisfied: google-auth-httplib2>=0.0.3 in /usr/local/lib/python3.7/dist-packages (from google-api-python-client>=1.6.7->tf-models-official) (0.0.4)\n",
            "Requirement already satisfied: uritemplate<4dev,>=3.0.0 in /usr/local/lib/python3.7/dist-packages (from google-api-python-client>=1.6.7->tf-models-official) (3.0.1)\n",
            "Requirement already satisfied: httplib2<1dev,>=0.15.0 in /usr/local/lib/python3.7/dist-packages (from google-api-python-client>=1.6.7->tf-models-official) (0.17.4)\n",
            "Requirement already satisfied: urllib3 in /usr/local/lib/python3.7/dist-packages (from kaggle>=1.3.9->tf-models-official) (1.24.3)\n",
            "Requirement already satisfied: python-slugify in /usr/local/lib/python3.7/dist-packages (from kaggle>=1.3.9->tf-models-official) (4.0.1)\n",
            "Requirement already satisfied: certifi in /usr/local/lib/python3.7/dist-packages (from kaggle>=1.3.9->tf-models-official) (2020.12.5)\n",
            "Requirement already satisfied: pyasn1-modules>=0.0.5 in /usr/local/lib/python3.7/dist-packages (from oauth2client->tf-models-official) (0.2.8)\n",
            "Requirement already satisfied: rsa>=3.1.4 in /usr/local/lib/python3.7/dist-packages (from oauth2client->tf-models-official) (4.7.2)\n",
            "Requirement already satisfied: pyasn1>=0.1.7 in /usr/local/lib/python3.7/dist-packages (from oauth2client->tf-models-official) (0.4.8)\n",
            "Requirement already satisfied: typeguard>=2.7 in /usr/local/lib/python3.7/dist-packages (from tensorflow-addons->tf-models-official) (2.7.1)\n",
            "Requirement already satisfied: tensorboard~=2.4 in /usr/local/lib/python3.7/dist-packages (from tensorflow>=2.4.0->tf-models-official) (2.4.1)\n",
            "Requirement already satisfied: keras-preprocessing~=1.1.2 in /usr/local/lib/python3.7/dist-packages (from tensorflow>=2.4.0->tf-models-official) (1.1.2)\n",
            "Requirement already satisfied: grpcio~=1.32.0 in /usr/local/lib/python3.7/dist-packages (from tensorflow>=2.4.0->tf-models-official) (1.32.0)\n",
            "Requirement already satisfied: h5py~=2.10.0 in /usr/local/lib/python3.7/dist-packages (from tensorflow>=2.4.0->tf-models-official) (2.10.0)\n",
            "Requirement already satisfied: opt-einsum~=3.3.0 in /usr/local/lib/python3.7/dist-packages (from tensorflow>=2.4.0->tf-models-official) (3.3.0)\n",
            "Requirement already satisfied: google-pasta~=0.2 in /usr/local/lib/python3.7/dist-packages (from tensorflow>=2.4.0->tf-models-official) (0.2.0)\n",
            "Requirement already satisfied: gast==0.3.3 in /usr/local/lib/python3.7/dist-packages (from tensorflow>=2.4.0->tf-models-official) (0.3.3)\n",
            "Requirement already satisfied: flatbuffers~=1.12.0 in /usr/local/lib/python3.7/dist-packages (from tensorflow>=2.4.0->tf-models-official) (1.12)\n",
            "Requirement already satisfied: typing-extensions~=3.7.4 in /usr/local/lib/python3.7/dist-packages (from tensorflow>=2.4.0->tf-models-official) (3.7.4.3)\n",
            "Requirement already satisfied: tensorflow-estimator<2.5.0,>=2.4.0 in /usr/local/lib/python3.7/dist-packages (from tensorflow>=2.4.0->tf-models-official) (2.4.0)\n",
            "Requirement already satisfied: astunparse~=1.6.3 in /usr/local/lib/python3.7/dist-packages (from tensorflow>=2.4.0->tf-models-official) (1.6.3)\n",
            "Requirement already satisfied: wrapt~=1.12.1 in /usr/local/lib/python3.7/dist-packages (from tensorflow>=2.4.0->tf-models-official) (1.12.1)\n",
            "Requirement already satisfied: wheel~=0.35 in /usr/local/lib/python3.7/dist-packages (from tensorflow>=2.4.0->tf-models-official) (0.36.2)\n",
            "Requirement already satisfied: cycler>=0.10 in /usr/local/lib/python3.7/dist-packages (from matplotlib->tf-models-official) (0.10.0)\n",
            "Requirement already satisfied: pyparsing!=2.0.4,!=2.1.2,!=2.1.6,>=2.0.1 in /usr/local/lib/python3.7/dist-packages (from matplotlib->tf-models-official) (2.4.7)\n",
            "Requirement already satisfied: kiwisolver>=1.0.1 in /usr/local/lib/python3.7/dist-packages (from matplotlib->tf-models-official) (1.3.1)\n",
            "Requirement already satisfied: chardet<4,>=3.0.2 in /usr/local/lib/python3.7/dist-packages (from requests>=2.19.0->tensorflow-datasets->tf-models-official) (3.0.4)\n",
            "Requirement already satisfied: idna<3,>=2.5 in /usr/local/lib/python3.7/dist-packages (from requests>=2.19.0->tensorflow-datasets->tf-models-official) (2.10)\n",
            "Requirement already satisfied: googleapis-common-protos<2,>=1.52.0 in /usr/local/lib/python3.7/dist-packages (from tensorflow-metadata->tensorflow-datasets->tf-models-official) (1.53.0)\n",
            "Requirement already satisfied: zipp>=0.4; python_version < \"3.8\" in /usr/local/lib/python3.7/dist-packages (from importlib-resources; python_version < \"3.9\"->tensorflow-datasets->tf-models-official) (3.4.1)\n",
            "Requirement already satisfied: joblib>=0.11 in /usr/local/lib/python3.7/dist-packages (from scikit-learn>=0.21.3->seqeval->tf-models-official) (1.0.1)\n",
            "Requirement already satisfied: cachetools<5.0,>=2.0.0 in /usr/local/lib/python3.7/dist-packages (from google-auth>=1.16.0->google-api-python-client>=1.6.7->tf-models-official) (4.2.1)\n",
            "Requirement already satisfied: packaging>=14.3 in /usr/local/lib/python3.7/dist-packages (from google-api-core<2dev,>=1.21.0->google-api-python-client>=1.6.7->tf-models-official) (20.9)\n",
            "Requirement already satisfied: text-unidecode>=1.3 in /usr/local/lib/python3.7/dist-packages (from python-slugify->kaggle>=1.3.9->tf-models-official) (1.3)\n",
            "Requirement already satisfied: markdown>=2.6.8 in /usr/local/lib/python3.7/dist-packages (from tensorboard~=2.4->tensorflow>=2.4.0->tf-models-official) (3.3.4)\n",
            "Requirement already satisfied: werkzeug>=0.11.15 in /usr/local/lib/python3.7/dist-packages (from tensorboard~=2.4->tensorflow>=2.4.0->tf-models-official) (1.0.1)\n",
            "Requirement already satisfied: tensorboard-plugin-wit>=1.6.0 in /usr/local/lib/python3.7/dist-packages (from tensorboard~=2.4->tensorflow>=2.4.0->tf-models-official) (1.8.0)\n",
            "Requirement already satisfied: google-auth-oauthlib<0.5,>=0.4.1 in /usr/local/lib/python3.7/dist-packages (from tensorboard~=2.4->tensorflow>=2.4.0->tf-models-official) (0.4.4)\n",
            "Requirement already satisfied: importlib-metadata; python_version < \"3.8\" in /usr/local/lib/python3.7/dist-packages (from markdown>=2.6.8->tensorboard~=2.4->tensorflow>=2.4.0->tf-models-official) (3.10.1)\n",
            "Requirement already satisfied: requests-oauthlib>=0.7.0 in /usr/local/lib/python3.7/dist-packages (from google-auth-oauthlib<0.5,>=0.4.1->tensorboard~=2.4->tensorflow>=2.4.0->tf-models-official) (1.3.0)\n",
            "Requirement already satisfied: oauthlib>=3.0.0 in /usr/local/lib/python3.7/dist-packages (from requests-oauthlib>=0.7.0->google-auth-oauthlib<0.5,>=0.4.1->tensorboard~=2.4->tensorflow>=2.4.0->tf-models-official) (3.1.0)\n",
            "Building wheels for collected packages: seqeval, py-cpuinfo\n",
            "  Building wheel for seqeval (setup.py) ... \u001b[?25l\u001b[?25hdone\n",
            "  Created wheel for seqeval: filename=seqeval-1.2.2-cp37-none-any.whl size=16172 sha256=a2a8f44b005dcbd85198a8c3f00d8ef9c12fcfcc860e84621141bc4b2fbaeb82\n",
            "  Stored in directory: /root/.cache/pip/wheels/52/df/1b/45d75646c37428f7e626214704a0e35bd3cfc32eda37e59e5f\n",
            "  Building wheel for py-cpuinfo (setup.py) ... \u001b[?25l\u001b[?25hdone\n",
            "  Created wheel for py-cpuinfo: filename=py_cpuinfo-8.0.0-cp37-none-any.whl size=22245 sha256=570c3a48f74958e40e96e83540323baf225d591ab1135b744e45bb5d8289b85e\n",
            "  Stored in directory: /root/.cache/pip/wheels/2e/15/f5/aa2a056d223903b52cf4870134e3a01df0c723816835dd08db\n",
            "Successfully built seqeval py-cpuinfo\n",
            "Installing collected packages: seqeval, opencv-python-headless, tf-slim, sentencepiece, tensorflow-model-optimization, py-cpuinfo, tensorflow-addons, pyyaml, dataclasses, tf-models-official\n",
            "  Found existing installation: PyYAML 3.13\n",
            "    Uninstalling PyYAML-3.13:\n",
            "      Successfully uninstalled PyYAML-3.13\n",
            "Successfully installed dataclasses-0.6 opencv-python-headless-4.5.1.48 py-cpuinfo-8.0.0 pyyaml-5.4.1 sentencepiece-0.1.95 seqeval-1.2.2 tensorflow-addons-0.12.1 tensorflow-model-optimization-0.5.0 tf-models-official-2.4.0 tf-slim-1.1.0\n"
          ],
          "name": "stdout"
        }
      ]
    },
    {
      "cell_type": "code",
      "metadata": {
        "id": "LubrCYv_Lc6s"
      },
      "source": [
        "import os\n",
        "import shutil\n",
        "\n",
        "import tensorflow as tf\n",
        "import tensorflow_hub as hub\n",
        "import tensorflow_text as text\n",
        "from official.nlp import optimization  # to create AdamW optmizer\n",
        "\n",
        "import matplotlib.pyplot as plt\n",
        "\n",
        "tf.get_logger().setLevel('ERROR')"
      ],
      "execution_count": 8,
      "outputs": []
    },
    {
      "cell_type": "code",
      "metadata": {
        "id": "RrkoHUJfMoTP"
      },
      "source": [
        "#从网上下载数据集压缩包，因为我们是从本地传入所以不需要\n",
        "#url = ''https://ai.stanford.edu/~amaas/data/sentiment/aclImdb_v1.tar.gz''\n",
        "\n",
        "#解压缩，因为我们从本地传入并不需要\n",
        "#dataset = tf.keras.utils.get_file('train', url,\n",
        "                                  #untar=True, cache_dir='.',\n",
        "                                  #cache_subdir='')\n",
        "\n",
        "dataset_dir = os.path.join(os.path.dirname('./content/data'), 'train')\n",
        "\n",
        "train_dir = os.path.join(dataset_dir, 'qinggan')\n",
        "\n",
        "# remove unused folders to make it easier to load the data\n",
        "#remove_dir = os.path.join(train_dir, 'unsup')\n",
        "#shutil.rmtree(remove_dir)"
      ],
      "execution_count": 10,
      "outputs": []
    },
    {
      "cell_type": "code",
      "metadata": {
        "colab": {
          "base_uri": "https://localhost:8080/"
        },
        "id": "uecQ5WwQhUb7",
        "outputId": "362f650b-e6bd-4512-d95f-34cbc0e0eb09"
      },
      "source": [
        "AUTOTUNE = tf.data.AUTOTUNE\n",
        "batch_size = 32\n",
        "seed = 42\n",
        "\n",
        "raw_train_ds = tf.keras.preprocessing.text_dataset_from_directory(\n",
        "    'data/train',\n",
        "    batch_size=batch_size,\n",
        "    validation_split=0.2,\n",
        "    subset='training',\n",
        "    seed=seed)\n",
        "\n",
        "class_names = raw_train_ds.class_names\n",
        "train_ds = raw_train_ds.cache().prefetch(buffer_size=AUTOTUNE)\n",
        "\n",
        "val_ds = tf.keras.preprocessing.text_dataset_from_directory(\n",
        "    'data/train',\n",
        "    batch_size=batch_size,\n",
        "    validation_split=0.2,\n",
        "    subset='validation',\n",
        "    seed=seed)\n",
        "\n",
        "val_ds = val_ds.cache().prefetch(buffer_size=AUTOTUNE)\n",
        "\n",
        "test_ds = tf.keras.preprocessing.text_dataset_from_directory(\n",
        "    'data/test',\n",
        "    batch_size=batch_size)\n",
        "\n",
        "test_ds = test_ds.cache().prefetch(buffer_size=AUTOTUNE)"
      ],
      "execution_count": 13,
      "outputs": [
        {
          "output_type": "stream",
          "text": [
            "Found 10 files belonging to 3 classes.\n",
            "Using 8 files for training.\n",
            "Found 10 files belonging to 3 classes.\n",
            "Using 2 files for validation.\n",
            "Found 5 files belonging to 3 classes.\n"
          ],
          "name": "stdout"
        }
      ]
    },
    {
      "cell_type": "code",
      "metadata": {
        "colab": {
          "base_uri": "https://localhost:8080/"
        },
        "id": "Y7QTgRGO3vmC",
        "outputId": "0a36d083-4ecd-425e-8e7f-6b0a583e8444"
      },
      "source": [
        "for text_batch, label_batch in train_ds.take(1):\n",
        "  for i in range(8):\n",
        "    #raw_text是一组数组\n",
        "    raw_text=text_batch.numpy()\n",
        "    #这个输出乱码了\n",
        "    print(f'Review: {raw_text[i]}')\n",
        "    #用decode转码\n",
        "    print(raw_text[i].decode(\"utf-8\"))\n",
        "\n",
        "    label = label_batch.numpy()[i]\n",
        "    print(f'Label : {label} ({class_names[label]})')"
      ],
      "execution_count": 37,
      "outputs": [
        {
          "output_type": "stream",
          "text": [
            "Review: b'\\xe7\\x9b\\xae\\xe5\\x89\\x8d\\xef\\xbc\\x8c\\xe5\\x85\\xac\\xe5\\x8f\\xb8\\xe9\\xa1\\xb9\\xe7\\x9b\\xae\\xe5\\x88\\x86\\xe5\\xb8\\x83\\xe5\\x9c\\xa8\\xe5\\x8c\\x97\\xe4\\xba\\xac\\xe3\\x80\\x81\\xe4\\xb8\\x8a\\xe6\\xb5\\xb7\\xe3\\x80\\x81\\xe6\\xb7\\xb1\\xe5\\x9c\\xb3\\xe3\\x80\\x81\\xe6\\x88\\x90\\xe9\\x83\\xbd\\xe3\\x80\\x81\\xe9\\x87\\x8d\\xe5\\xba\\x86\\xe3\\x80\\x81\\xe5\\x8e\\xa6\\xe9\\x97\\xa8\\xe7\\xad\\x89\\xe5\\x8d\\x81\\xe4\\xb8\\x83\\xe4\\xb8\\xaa\\xe5\\x9f\\x8e\\xe5\\xb8\\x82\\xef\\xbc\\x8c\\xe6\\x97\\x97\\xe4\\xb8\\x8b\\xe6\\x8b\\xa5\\xe6\\x9c\\x89\\xe5\\xa4\\x9a\\xe4\\xb8\\xaa\\xe4\\xba\\xa7\\xe5\\x93\\x81\\xe7\\xba\\xbf\\xe3\\x80\\x82  \\t0'\n",
            "目前，公司项目分布在北京、上海、深圳、成都、重庆、厦门等十七个城市，旗下拥有多个产品线。  \t0\n",
            "Label : 1 (luoji)\n",
            "Review: b'\\xe8\\xbf\\x99\\xe4\\xb8\\x80\\xe5\\xb9\\xb4\\xe5\\x85\\xac\\xe5\\x8f\\xb8\\xe5\\x87\\x86\\xe7\\xa1\\xae\\xe7\\xa0\\x94\\xe5\\x88\\xa4\\xe5\\xb8\\x82\\xe5\\x9c\\xba\\xe8\\xb5\\xb0\\xe5\\x8a\\xbf\\xef\\xbc\\x8c\\xe5\\x90\\x88\\xe7\\x90\\x86\\xe6\\x8e\\xa7\\xe5\\x88\\xb6\\xe9\\xa1\\xb9\\xe7\\x9b\\xae\\xe5\\xbc\\x80\\xe5\\x8f\\x91\\xe9\\x94\\x80\\xe5\\x94\\xae\\xe8\\x8a\\x82\\xe5\\xa5\\x8f\\xef\\xbc\\x8c\\xe5\\xae\\x9e\\xe7\\x8e\\xb0\\xe4\\xba\\x86\\xe5\\x85\\xac\\xe5\\x8f\\xb8\\xe5\\x88\\xa9\\xe6\\xb6\\xa6\\xe7\\x9a\\x84\\xe5\\x8f\\x88\\xe4\\xb8\\x80\\xe6\\xac\\xa1\\xe5\\xa2\\x9e\\xe9\\x95\\xbf\\xe3\\x80\\x82\\t\\t1'\n",
            "这一年公司准确研判市场走势，合理控制项目开发销售节奏，实现了公司利润的又一次增长。\t\t1\n",
            "Label : 2 (qinggan)\n",
            "Review: b'\\xe5\\x9c\\xa8\\xe5\\x88\\x9b\\xe9\\x80\\xa0\\xe4\\xbb\\xb7\\xe5\\x80\\xbc\\xe7\\x9a\\x84\\xe5\\x90\\x8c\\xe6\\x97\\xb6\\xe6\\x88\\x91\\xe4\\xbb\\xac\\xe4\\xbb\\x8e\\xe6\\x9c\\xaa\\xe5\\xbf\\x98\\xe8\\xae\\xb0\\xe5\\x88\\xa9\\xe7\\x9b\\x8a\\xe7\\xa4\\xbe\\xe4\\xbc\\x9a\\xe7\\x9a\\x84\\xe4\\xbc\\x81\\xe4\\xb8\\x9a\\xe8\\xb4\\xa3\\xe4\\xbb\\xbb\\xef\\xbc\\x8c\\xe4\\xb8\\x80\\xe5\\xb9\\xb4\\xe6\\x9d\\xa5\\xef\\xbc\\x8c\\xe6\\x88\\x91\\xe4\\xbb\\xac\\xe7\\xbb\\xa7\\xe7\\xbb\\xad\\xe5\\x93\\x8d\\xe5\\xba\\x94\\xe5\\x9b\\xbd\\xe5\\xae\\xb6\\xe5\\x8f\\xb7\\xe5\\x8f\\xac\\xef\\xbc\\x8c\\xe5\\x9d\\x9a\\xe5\\x86\\xb3\\xe8\\x90\\xbd\\xe5\\xae\\x9e\\xe7\\xb2\\xbe\\xe5\\x87\\x86\\xe6\\x89\\xb6\\xe8\\xb4\\xab\\xef\\xbc\\x9b\\t\\t1'\n",
            "在创造价值的同时我们从未忘记利益社会的企业责任，一年来，我们继续响应国家号召，坚决落实精准扶贫；\t\t1\n",
            "Label : 2 (qinggan)\n",
            "Review: b'\\xe6\\x88\\x91\\xe4\\xbb\\xac\\xe4\\xb8\\xbb\\xe5\\x8a\\xa8\\xe5\\xb1\\xa5\\xe8\\xa1\\x8c\\xe7\\x8e\\xaf\\xe5\\xa2\\x83\\xe8\\xb4\\xa3\\xe4\\xbb\\xbb\\xef\\xbc\\x8c\\xe6\\xb7\\xb1\\xe5\\x85\\xa5\\xe6\\x8e\\xa8\\xe8\\xbf\\x9b\\xe8\\x8a\\x82\\xe8\\x83\\xbd\\xe7\\x8e\\xaf\\xe4\\xbf\\x9d\\xef\\xbc\\x9b\\t\\t1'\n",
            "我们主动履行环境责任，深入推进节能环保；\t\t1\n",
            "Label : 2 (qinggan)\n",
            "Review: b'\\xe4\\xb8\\xbb\\xe5\\x8a\\xa8\\xe7\\xae\\xa1\\xe6\\x8e\\xa7\\xef\\xbc\\x8c\\xe9\\xa3\\x8e\\xe9\\x99\\xa9\\xe7\\xae\\xa1\\xe7\\x90\\x86\\xe5\\xb7\\xa5\\xe4\\xbd\\x9c\\xe4\\xb8\\x8d\\xe6\\x96\\xad\\xe6\\x8f\\x90\\xe5\\x8d\\x87\\xef\\xbc\\x9b\\t0'\n",
            "主动管控，风险管理工作不断提升；\t0\n",
            "Label : 1 (luoji)\n",
            "Review: b'2017\\xe5\\xb9\\xb4\\xef\\xbc\\x8c\\xe6\\x98\\xaf\\xe5\\x8f\\x98\\xe9\\x9d\\xa9\\xe7\\x9a\\x84\\xe4\\xb8\\x80\\xe5\\xb9\\xb4\\xef\\xbc\\x8c\\xe6\\x98\\xaf\\xe5\\x88\\x9b\\xe6\\x96\\xb0\\xe7\\x9a\\x84\\xe4\\xb8\\x80\\xe5\\xb9\\xb4\\xef\\xbc\\x8c\\xe6\\x98\\xaf\\xe6\\x94\\xbb\\xe5\\x9d\\x9a\\xe5\\x85\\x8b\\xe9\\x9a\\xbe\\xe7\\x9a\\x84\\xe4\\xb8\\x80\\xe5\\xb9\\xb4\\xef\\xbc\\x8c\\xe6\\x98\\xaf\\xe5\\x85\\x85\\xe6\\xbb\\xa1\\xe5\\xb8\\x8c\\xe6\\x9c\\x9b\\xe7\\x9a\\x84\\xe4\\xb8\\x80\\xe5\\xb9\\xb4\\xe3\\x80\\x82\\t\\t1'\n",
            "2017年，是变革的一年，是创新的一年，是攻坚克难的一年，是充满希望的一年。\t\t1\n",
            "Label : 2 (qinggan)\n",
            "Review: b'\\xe9\\x83\\xa8\\xe9\\x97\\xa8\\xe8\\xb4\\x9f\\xe8\\xb4\\xa3\\xe4\\xba\\xba\\xe8\\xa2\\xab\\xe4\\xb8\\xad\\xe5\\x9b\\xbd\\xe5\\x86\\x85\\xe5\\xae\\xa1\\xe5\\x8d\\x8f\\xe4\\xbc\\x9a\\xe8\\xaf\\x84\\xe4\\xb8\\xba\\xe2\\x80\\x9c\\xe5\\x85\\xa8\\xe5\\x9b\\xbd\\xe5\\x86\\x85\\xe9\\x83\\xa8\\xe5\\xae\\xa1\\xe8\\xae\\xa1\\xe5\\x85\\x88\\xe8\\xbf\\x9b\\xe4\\xb8\\xaa\\xe4\\xba\\xba\\xe2\\x80\\x9d\\xef\\xbc\\x9b\\t0'\n",
            "部门负责人被中国内审协会评为“全国内部审计先进个人”；\t0\n",
            "Label : 1 (luoji)\n",
            "Review: b'\\xe6\\x88\\xaa\\xe8\\x87\\xb32017\\xe5\\xb9\\xb4\\xe5\\xba\\x95\\xef\\xbc\\x8c\\xe5\\x85\\xac\\xe5\\x8f\\xb8\\xe6\\x8e\\xa7\\xe8\\x82\\xa1\\xe8\\xa3\\x85\\xe6\\x9c\\xba\\xe5\\xae\\xb9\\xe9\\x87\\x8f\\xe8\\xbe\\xbe976.84\\xe4\\xb8\\x87\\xe5\\x8d\\x83\\xe7\\x93\\xa6\\xef\\xbc\\x8c\\xe5\\x8f\\xaf\\xe5\\x86\\x8d\\xe7\\x94\\x9f\\xe8\\x83\\xbd\\xe6\\xba\\x90\\xe6\\x8a\\x95\\xe4\\xba\\xa7\\xe8\\xa3\\x85\\xe6\\x9c\\xba\\xe5\\xae\\xb9\\xe9\\x87\\x8f\\xe8\\xbe\\xbe\\xe5\\x88\\xb0 240.44\\xe4\\xb8\\x87\\xe5\\x8d\\x83\\xe7\\x93\\xa6\\xef\\xbc\\x8c\\xe5\\x8d\\xa0\\xe6\\x80\\xbb\\xe8\\xa3\\x85\\xe6\\x9c\\xba\\xe5\\xae\\xb9\\xe9\\x87\\x8f\\xe7\\x9a\\x8424.61%\\xe3\\x80\\x82\\t0'\n",
            "截至2017年底，公司控股装机容量达976.84万千瓦，可再生能源投产装机容量达到 240.44万千瓦，占总装机容量的24.61%。\t0\n",
            "Label : 1 (luoji)\n"
          ],
          "name": "stdout"
        }
      ]
    },
    {
      "cell_type": "code",
      "metadata": {
        "colab": {
          "base_uri": "https://localhost:8080/"
        },
        "id": "BUxb2BKsDxAy",
        "outputId": "bde17c2f-34d3-4cb4-d332-d03d306a3d21"
      },
      "source": [
        "bert_model_name = 'bert_zh_L-12_H-768_A-12' \n",
        "#中文版模型 https://tfhub.dev/tensorflow/bert_zh_L-12_H-768_A-12/4\n",
        "\n",
        "map_name_to_handle = {\n",
        "    'bert_en_uncased_L-12_H-768_A-12':\n",
        "        'https://tfhub.dev/tensorflow/bert_en_uncased_L-12_H-768_A-12/3',\n",
        "    'bert_en_cased_L-12_H-768_A-12':\n",
        "        'https://tfhub.dev/tensorflow/bert_en_cased_L-12_H-768_A-12/3',\n",
        "    'bert_multi_cased_L-12_H-768_A-12':\n",
        "        'https://tfhub.dev/tensorflow/bert_multi_cased_L-12_H-768_A-12/3',\n",
        "    'small_bert/bert_en_uncased_L-2_H-128_A-2':\n",
        "        'https://tfhub.dev/tensorflow/small_bert/bert_en_uncased_L-2_H-128_A-2/1',\n",
        "    'small_bert/bert_en_uncased_L-2_H-256_A-4':\n",
        "        'https://tfhub.dev/tensorflow/small_bert/bert_en_uncased_L-2_H-256_A-4/1',\n",
        "    'small_bert/bert_en_uncased_L-2_H-512_A-8':\n",
        "        'https://tfhub.dev/tensorflow/small_bert/bert_en_uncased_L-2_H-512_A-8/1',\n",
        "    'small_bert/bert_en_uncased_L-2_H-768_A-12':\n",
        "        'https://tfhub.dev/tensorflow/small_bert/bert_en_uncased_L-2_H-768_A-12/1',\n",
        "    'small_bert/bert_en_uncased_L-4_H-128_A-2':\n",
        "        'https://tfhub.dev/tensorflow/small_bert/bert_en_uncased_L-4_H-128_A-2/1',\n",
        "    'small_bert/bert_en_uncased_L-4_H-256_A-4':\n",
        "        'https://tfhub.dev/tensorflow/small_bert/bert_en_uncased_L-4_H-256_A-4/1',\n",
        "    'small_bert/bert_en_uncased_L-4_H-512_A-8':\n",
        "        'https://tfhub.dev/tensorflow/small_bert/bert_en_uncased_L-4_H-512_A-8/1',\n",
        "    'small_bert/bert_en_uncased_L-4_H-768_A-12':\n",
        "        'https://tfhub.dev/tensorflow/small_bert/bert_en_uncased_L-4_H-768_A-12/1',\n",
        "    'small_bert/bert_en_uncased_L-6_H-128_A-2':\n",
        "        'https://tfhub.dev/tensorflow/small_bert/bert_en_uncased_L-6_H-128_A-2/1',\n",
        "    'small_bert/bert_en_uncased_L-6_H-256_A-4':\n",
        "        'https://tfhub.dev/tensorflow/small_bert/bert_en_uncased_L-6_H-256_A-4/1',\n",
        "    'small_bert/bert_en_uncased_L-6_H-512_A-8':\n",
        "        'https://tfhub.dev/tensorflow/small_bert/bert_en_uncased_L-6_H-512_A-8/1',\n",
        "    'small_bert/bert_en_uncased_L-6_H-768_A-12':\n",
        "        'https://tfhub.dev/tensorflow/small_bert/bert_en_uncased_L-6_H-768_A-12/1',\n",
        "    'small_bert/bert_en_uncased_L-8_H-128_A-2':\n",
        "        'https://tfhub.dev/tensorflow/small_bert/bert_en_uncased_L-8_H-128_A-2/1',\n",
        "    'small_bert/bert_en_uncased_L-8_H-256_A-4':\n",
        "        'https://tfhub.dev/tensorflow/small_bert/bert_en_uncased_L-8_H-256_A-4/1',\n",
        "    'small_bert/bert_en_uncased_L-8_H-512_A-8':\n",
        "        'https://tfhub.dev/tensorflow/small_bert/bert_en_uncased_L-8_H-512_A-8/1',\n",
        "    'small_bert/bert_en_uncased_L-8_H-768_A-12':\n",
        "        'https://tfhub.dev/tensorflow/small_bert/bert_en_uncased_L-8_H-768_A-12/1',\n",
        "    'small_bert/bert_en_uncased_L-10_H-128_A-2':\n",
        "        'https://tfhub.dev/tensorflow/small_bert/bert_en_uncased_L-10_H-128_A-2/1',\n",
        "    'small_bert/bert_en_uncased_L-10_H-256_A-4':\n",
        "        'https://tfhub.dev/tensorflow/small_bert/bert_en_uncased_L-10_H-256_A-4/1',\n",
        "    'small_bert/bert_en_uncased_L-10_H-512_A-8':\n",
        "        'https://tfhub.dev/tensorflow/small_bert/bert_en_uncased_L-10_H-512_A-8/1',\n",
        "    'small_bert/bert_en_uncased_L-10_H-768_A-12':\n",
        "        'https://tfhub.dev/tensorflow/small_bert/bert_en_uncased_L-10_H-768_A-12/1',\n",
        "    'small_bert/bert_en_uncased_L-12_H-128_A-2':\n",
        "        'https://tfhub.dev/tensorflow/small_bert/bert_en_uncased_L-12_H-128_A-2/1',\n",
        "    'small_bert/bert_en_uncased_L-12_H-256_A-4':\n",
        "        'https://tfhub.dev/tensorflow/small_bert/bert_en_uncased_L-12_H-256_A-4/1',\n",
        "    'small_bert/bert_en_uncased_L-12_H-512_A-8':\n",
        "        'https://tfhub.dev/tensorflow/small_bert/bert_en_uncased_L-12_H-512_A-8/1',\n",
        "    'small_bert/bert_en_uncased_L-12_H-768_A-12':\n",
        "        'https://tfhub.dev/tensorflow/small_bert/bert_en_uncased_L-12_H-768_A-12/1',\n",
        "    'albert_en_base':\n",
        "        'https://tfhub.dev/tensorflow/albert_en_base/2',\n",
        "    'electra_small':\n",
        "        'https://tfhub.dev/google/electra_small/2',\n",
        "    'electra_base':\n",
        "        'https://tfhub.dev/google/electra_base/2',\n",
        "    'experts_pubmed':\n",
        "        'https://tfhub.dev/google/experts/bert/pubmed/2',\n",
        "    'experts_wiki_books':\n",
        "        'https://tfhub.dev/google/experts/bert/wiki_books/2',\n",
        "    'talking-heads_base':\n",
        "        'https://tfhub.dev/tensorflow/talkheads_ggelu_bert_en_base/1',\n",
        "    'bert_zh_L-12_H-768_A-12':'https://tfhub.dev/tensorflow/bert_zh_L-12_H-768_A-12/4'\n",
        "}\n",
        "\n",
        "map_model_to_preprocess = {\n",
        "    'bert_en_uncased_L-12_H-768_A-12':\n",
        "        'https://tfhub.dev/tensorflow/bert_en_uncased_preprocess/3',\n",
        "    'bert_en_cased_L-12_H-768_A-12':\n",
        "        'https://tfhub.dev/tensorflow/bert_en_cased_preprocess/3',\n",
        "    'small_bert/bert_en_uncased_L-2_H-128_A-2':\n",
        "        'https://tfhub.dev/tensorflow/bert_en_uncased_preprocess/3',\n",
        "    'small_bert/bert_en_uncased_L-2_H-256_A-4':\n",
        "        'https://tfhub.dev/tensorflow/bert_en_uncased_preprocess/3',\n",
        "    'small_bert/bert_en_uncased_L-2_H-512_A-8':\n",
        "        'https://tfhub.dev/tensorflow/bert_en_uncased_preprocess/3',\n",
        "    'small_bert/bert_en_uncased_L-2_H-768_A-12':\n",
        "        'https://tfhub.dev/tensorflow/bert_en_uncased_preprocess/3',\n",
        "    'small_bert/bert_en_uncased_L-4_H-128_A-2':\n",
        "        'https://tfhub.dev/tensorflow/bert_en_uncased_preprocess/3',\n",
        "    'small_bert/bert_en_uncased_L-4_H-256_A-4':\n",
        "        'https://tfhub.dev/tensorflow/bert_en_uncased_preprocess/3',\n",
        "    'small_bert/bert_en_uncased_L-4_H-512_A-8':\n",
        "        'https://tfhub.dev/tensorflow/bert_en_uncased_preprocess/3',\n",
        "    'small_bert/bert_en_uncased_L-4_H-768_A-12':\n",
        "        'https://tfhub.dev/tensorflow/bert_en_uncased_preprocess/3',\n",
        "    'small_bert/bert_en_uncased_L-6_H-128_A-2':\n",
        "        'https://tfhub.dev/tensorflow/bert_en_uncased_preprocess/3',\n",
        "    'small_bert/bert_en_uncased_L-6_H-256_A-4':\n",
        "        'https://tfhub.dev/tensorflow/bert_en_uncased_preprocess/3',\n",
        "    'small_bert/bert_en_uncased_L-6_H-512_A-8':\n",
        "        'https://tfhub.dev/tensorflow/bert_en_uncased_preprocess/3',\n",
        "    'small_bert/bert_en_uncased_L-6_H-768_A-12':\n",
        "        'https://tfhub.dev/tensorflow/bert_en_uncased_preprocess/3',\n",
        "    'small_bert/bert_en_uncased_L-8_H-128_A-2':\n",
        "        'https://tfhub.dev/tensorflow/bert_en_uncased_preprocess/3',\n",
        "    'small_bert/bert_en_uncased_L-8_H-256_A-4':\n",
        "        'https://tfhub.dev/tensorflow/bert_en_uncased_preprocess/3',\n",
        "    'small_bert/bert_en_uncased_L-8_H-512_A-8':\n",
        "        'https://tfhub.dev/tensorflow/bert_en_uncased_preprocess/3',\n",
        "    'small_bert/bert_en_uncased_L-8_H-768_A-12':\n",
        "        'https://tfhub.dev/tensorflow/bert_en_uncased_preprocess/3',\n",
        "    'small_bert/bert_en_uncased_L-10_H-128_A-2':\n",
        "        'https://tfhub.dev/tensorflow/bert_en_uncased_preprocess/3',\n",
        "    'small_bert/bert_en_uncased_L-10_H-256_A-4':\n",
        "        'https://tfhub.dev/tensorflow/bert_en_uncased_preprocess/3',\n",
        "    'small_bert/bert_en_uncased_L-10_H-512_A-8':\n",
        "        'https://tfhub.dev/tensorflow/bert_en_uncased_preprocess/3',\n",
        "    'small_bert/bert_en_uncased_L-10_H-768_A-12':\n",
        "        'https://tfhub.dev/tensorflow/bert_en_uncased_preprocess/3',\n",
        "    'small_bert/bert_en_uncased_L-12_H-128_A-2':\n",
        "        'https://tfhub.dev/tensorflow/bert_en_uncased_preprocess/3',\n",
        "    'small_bert/bert_en_uncased_L-12_H-256_A-4':\n",
        "        'https://tfhub.dev/tensorflow/bert_en_uncased_preprocess/3',\n",
        "    'small_bert/bert_en_uncased_L-12_H-512_A-8':\n",
        "        'https://tfhub.dev/tensorflow/bert_en_uncased_preprocess/3',\n",
        "    'small_bert/bert_en_uncased_L-12_H-768_A-12':\n",
        "        'https://tfhub.dev/tensorflow/bert_en_uncased_preprocess/3',\n",
        "    'bert_multi_cased_L-12_H-768_A-12':\n",
        "        'https://tfhub.dev/tensorflow/bert_multi_cased_preprocess/3',\n",
        "    'albert_en_base':\n",
        "        'https://tfhub.dev/tensorflow/albert_en_preprocess/3',\n",
        "    'electra_small':\n",
        "        'https://tfhub.dev/tensorflow/bert_en_uncased_preprocess/3',\n",
        "    'electra_base':\n",
        "        'https://tfhub.dev/tensorflow/bert_en_uncased_preprocess/3',\n",
        "    'experts_pubmed':\n",
        "        'https://tfhub.dev/tensorflow/bert_en_uncased_preprocess/3',\n",
        "    'experts_wiki_books':\n",
        "        'https://tfhub.dev/tensorflow/bert_en_uncased_preprocess/3',\n",
        "    'talking-heads_base':\n",
        "        'https://tfhub.dev/tensorflow/bert_en_uncased_preprocess/3',\n",
        "    'bert_zh_L-12_H-768_A-12':'https://tfhub.dev/tensorflow/bert_zh_preprocess/3'\n",
        "\n",
        "}\n",
        "\n",
        "tfhub_handle_encoder = map_name_to_handle[bert_model_name]\n",
        "tfhub_handle_preprocess = map_model_to_preprocess[bert_model_name]\n",
        "\n",
        "print(f'BERT model selected           : {tfhub_handle_encoder}')\n",
        "print(f'Preprocess model auto-selected: {tfhub_handle_preprocess}')"
      ],
      "execution_count": 39,
      "outputs": [
        {
          "output_type": "stream",
          "text": [
            "BERT model selected           : https://tfhub.dev/tensorflow/bert_zh_L-12_H-768_A-12/4\n",
            "Preprocess model auto-selected: https://tfhub.dev/tensorflow/bert_zh_preprocess/3\n"
          ],
          "name": "stdout"
        }
      ]
    },
    {
      "cell_type": "code",
      "metadata": {
        "id": "LTgEAfcWB53J"
      },
      "source": [
        "#预处理模型\n",
        "bert_preprocess_model = hub.KerasLayer(tfhub_handle_preprocess)"
      ],
      "execution_count": 40,
      "outputs": []
    },
    {
      "cell_type": "code",
      "metadata": {
        "id": "xxKdtk-lHPvP"
      },
      "source": [
        "bert_preprocess_model = hub.KerasLayer(tfhub_handle_preprocess)"
      ],
      "execution_count": 42,
      "outputs": []
    },
    {
      "cell_type": "code",
      "metadata": {
        "colab": {
          "base_uri": "https://localhost:8080/"
        },
        "id": "YbQrCD_pHdkO",
        "outputId": "52a30b8a-6d72-4a45-d584-9aac06770bc7"
      },
      "source": [
        "text_test = ['万科保证本报告内容不存在任何虚假记载、误导性陈述或重大遗漏。']\n",
        "text_preprocessed = bert_preprocess_model(text_test)\n",
        "\n",
        "print(f'Keys       : {list(text_preprocessed.keys())}')\n",
        "print(f'Shape      : {text_preprocessed[\"input_word_ids\"].shape}')\n",
        "print(f'Word Ids   : {text_preprocessed[\"input_word_ids\"][0, :12]}')\n",
        "print(f'Input Mask : {text_preprocessed[\"input_mask\"][0, :12]}')\n",
        "print(f'Type Ids   : {text_preprocessed[\"input_type_ids\"][0, :12]}')"
      ],
      "execution_count": 43,
      "outputs": [
        {
          "output_type": "stream",
          "text": [
            "Keys       : ['input_mask', 'input_type_ids', 'input_word_ids']\n",
            "Shape      : (1, 128)\n",
            "Word Ids   : [ 101  674 4906  924 6395 3315 2845 1440 1079 2159  679 2100]\n",
            "Input Mask : [1 1 1 1 1 1 1 1 1 1 1 1]\n",
            "Type Ids   : [0 0 0 0 0 0 0 0 0 0 0 0]\n"
          ],
          "name": "stdout"
        }
      ]
    },
    {
      "cell_type": "code",
      "metadata": {
        "id": "G6KrPHSkH3j2"
      },
      "source": [
        "#使用bert模型\n",
        "bert_model = hub.KerasLayer(tfhub_handle_encoder)"
      ],
      "execution_count": 44,
      "outputs": []
    },
    {
      "cell_type": "code",
      "metadata": {
        "colab": {
          "base_uri": "https://localhost:8080/"
        },
        "id": "HEXRotZEH7U-",
        "outputId": "5e4d367f-ebf2-4378-b15b-11b05cc62393"
      },
      "source": [
        "bert_results = bert_model(text_preprocessed)\n",
        "\n",
        "print(f'Loaded BERT: {tfhub_handle_encoder}')\n",
        "print(f'Pooled Outputs Shape:{bert_results[\"pooled_output\"].shape}')\n",
        "print(f'Pooled Outputs Values:{bert_results[\"pooled_output\"][0, :12]}')\n",
        "print(f'Sequence Outputs Shape:{bert_results[\"sequence_output\"].shape}')\n",
        "print(f'Sequence Outputs Values:{bert_results[\"sequence_output\"][0, :12]}')"
      ],
      "execution_count": 45,
      "outputs": [
        {
          "output_type": "stream",
          "text": [
            "Loaded BERT: https://tfhub.dev/tensorflow/bert_zh_L-12_H-768_A-12/4\n",
            "Pooled Outputs Shape:(1, 768)\n",
            "Pooled Outputs Values:[ 0.99866563  0.9996423   0.98777777  0.8717656   0.9636704   0.3215581\n",
            " -0.8227077   0.30739298  0.9833528  -0.9979714   0.99992085  0.9987444 ]\n",
            "Sequence Outputs Shape:(1, 128, 768)\n",
            "Sequence Outputs Values:[[ 0.68239725  0.5577215   0.09849375 ... -0.01237792 -0.706184\n",
            "   0.6503175 ]\n",
            " [-0.8962562   0.4492362   1.2394017  ... -0.97078013 -0.19347236\n",
            "   0.09974515]\n",
            " [ 0.32081974  0.6410011   0.88046044 ...  0.43439108 -0.1528737\n",
            "   0.6800312 ]\n",
            " ...\n",
            " [ 0.5200127  -0.45156938  0.62698627 ...  0.8195816  -0.4332544\n",
            "   0.72958666]\n",
            " [ 0.49132037 -0.36749634  0.7497952  ... -0.10207826  0.5405131\n",
            "   0.6284633 ]\n",
            " [ 0.8987839  -0.38201672 -0.52844596 ...  0.7393296   0.9631606\n",
            "   0.7311599 ]]\n"
          ],
          "name": "stdout"
        }
      ]
    },
    {
      "cell_type": "code",
      "metadata": {
        "id": "VzdVAaI_IR9-"
      },
      "source": [
        "#定义模型\n",
        "def build_classifier_model():\n",
        "  text_input = tf.keras.layers.Input(shape=(), dtype=tf.string, name='text')\n",
        "  preprocessing_layer = hub.KerasLayer(tfhub_handle_preprocess, name='preprocessing')\n",
        "  encoder_inputs = preprocessing_layer(text_input)\n",
        "  encoder = hub.KerasLayer(tfhub_handle_encoder, trainable=True, name='BERT_encoder')\n",
        "  outputs = encoder(encoder_inputs)\n",
        "  net = outputs['pooled_output']\n",
        "  net = tf.keras.layers.Dropout(0.1)(net)\n",
        "  net = tf.keras.layers.Dense(1, activation=None, name='classifier')(net)\n",
        "  return tf.keras.Model(text_input, net)"
      ],
      "execution_count": 46,
      "outputs": []
    },
    {
      "cell_type": "code",
      "metadata": {
        "colab": {
          "base_uri": "https://localhost:8080/"
        },
        "id": "N-VztnHeIax2",
        "outputId": "2f488918-cd5e-479d-87a2-e4ae6413c7a2"
      },
      "source": [
        "classifier_model = build_classifier_model()\n",
        "bert_raw_result = classifier_model(tf.constant(text_test))\n",
        "print(tf.sigmoid(bert_raw_result))"
      ],
      "execution_count": 47,
      "outputs": [
        {
          "output_type": "stream",
          "text": [
            "tf.Tensor([[0.7662549]], shape=(1, 1), dtype=float32)\n"
          ],
          "name": "stdout"
        }
      ]
    },
    {
      "cell_type": "code",
      "metadata": {
        "colab": {
          "base_uri": "https://localhost:8080/",
          "height": 466
        },
        "id": "Zo7sd6pkIgmG",
        "outputId": "5303c667-51c4-4ef7-afbd-3f3a0b16ac2a"
      },
      "source": [
        "#查看模型结构\n",
        "#tf.keras.utils.plot_model(classifier_model)"
      ],
      "execution_count": 48,
      "outputs": [
        {
          "output_type": "execute_result",
          "data": {
            "image/png": "[encoded data removed]",
            "text/plain": [
              "<IPython.core.display.Image object>"
            ]
          },
          "metadata": {
            "tags": []
          },
          "execution_count": 48
        }
      ]
    },
    {
      "cell_type": "code",
      "metadata": {
        "id": "z913005CImPG"
      },
      "source": [
        "#损失函数\n",
        "loss = tf.keras.losses.BinaryCrossentropy(from_logits=True)\n",
        "metrics = tf.metrics.BinaryAccuracy()"
      ],
      "execution_count": 50,
      "outputs": []
    },
    {
      "cell_type": "code",
      "metadata": {
        "id": "Dy02rY40I5dm"
      },
      "source": [
        "#分类器\n",
        "epochs = 5\n",
        "steps_per_epoch = tf.data.experimental.cardinality(train_ds).numpy()\n",
        "num_train_steps = steps_per_epoch * epochs\n",
        "num_warmup_steps = int(0.1*num_train_steps)\n",
        "\n",
        "init_lr = 3e-5\n",
        "optimizer = optimization.create_optimizer(init_lr=init_lr,\n",
        "                            num_train_steps=num_train_steps,\n",
        "                            num_warmup_steps=num_warmup_steps,\n",
        "                            optimizer_type='adamw')"
      ],
      "execution_count": 51,
      "outputs": []
    },
    {
      "cell_type": "code",
      "metadata": {
        "id": "wlcCbVIIJCtm"
      },
      "source": [
        "#加载BERT模型并进行训练\n",
        "classifier_model.compile(optimizer=optimizer,\n",
        "                         loss=loss,\n",
        "                         metrics=metrics)"
      ],
      "execution_count": 52,
      "outputs": []
    },
    {
      "cell_type": "code",
      "metadata": {
        "colab": {
          "base_uri": "https://localhost:8080/"
        },
        "id": "n0BOc4R9JMGQ",
        "outputId": "b25fa100-6760-41af-e3e8-53afad5df1e9"
      },
      "source": [
        "print(f'Training model with {tfhub_handle_encoder}')\n",
        "history = classifier_model.fit(x=train_ds,\n",
        "                               validation_data=val_ds,\n",
        "                               epochs=epochs)"
      ],
      "execution_count": 53,
      "outputs": [
        {
          "output_type": "stream",
          "text": [
            "Training model with https://tfhub.dev/tensorflow/bert_zh_L-12_H-768_A-12/4\n",
            "Epoch 1/5\n",
            "1/1 [==============================] - 35s 35s/step - loss: -0.1116 - binary_accuracy: 0.5000 - val_loss: -1.1947 - val_binary_accuracy: 0.5000\n",
            "Epoch 2/5\n",
            "1/1 [==============================] - 13s 13s/step - loss: -1.1103 - binary_accuracy: 0.5000 - val_loss: -1.4931 - val_binary_accuracy: 0.5000\n",
            "Epoch 3/5\n",
            "1/1 [==============================] - 13s 13s/step - loss: -1.5176 - binary_accuracy: 0.5000 - val_loss: -1.6159 - val_binary_accuracy: 0.5000\n",
            "Epoch 4/5\n",
            "1/1 [==============================] - 13s 13s/step - loss: -1.4943 - binary_accuracy: 0.5000 - val_loss: -1.7517 - val_binary_accuracy: 0.5000\n",
            "Epoch 5/5\n",
            "1/1 [==============================] - 13s 13s/step - loss: -1.9425 - binary_accuracy: 0.5000 - val_loss: -1.8398 - val_binary_accuracy: 0.5000\n"
          ],
          "name": "stdout"
        }
      ]
    },
    {
      "cell_type": "code",
      "metadata": {
        "colab": {
          "base_uri": "https://localhost:8080/"
        },
        "id": "0rl_xfYIJQg2",
        "outputId": "5672e132-d07d-4ac7-9941-8d6e64b68d61"
      },
      "source": [
        "#评估模型\n",
        "loss, accuracy = classifier_model.evaluate(test_ds)\n",
        "\n",
        "print(f'Loss: {loss}')\n",
        "print(f'Accuracy: {accuracy}')"
      ],
      "execution_count": 54,
      "outputs": [
        {
          "output_type": "stream",
          "text": [
            "1/1 [==============================] - 2s 2s/step - loss: -0.5768 - binary_accuracy: 0.8000\n",
            "Loss: -0.5767850875854492\n",
            "Accuracy: 0.800000011920929\n"
          ],
          "name": "stdout"
        }
      ]
    },
    {
      "cell_type": "code",
      "metadata": {
        "colab": {
          "base_uri": "https://localhost:8080/",
          "height": 439
        },
        "id": "GDKZxuC3JUq3",
        "outputId": "3baae7f7-d887-43ae-be58-ddc28d9e5885"
      },
      "source": [
        "#绘制出随时间变化的准确性和损失\n",
        "history_dict = history.history\n",
        "print(history_dict.keys())\n",
        "\n",
        "acc = history_dict['binary_accuracy']\n",
        "val_acc = history_dict['val_binary_accuracy']\n",
        "loss = history_dict['loss']\n",
        "val_loss = history_dict['val_loss']\n",
        "\n",
        "epochs = range(1, len(acc) + 1)\n",
        "fig = plt.figure(figsize=(10, 6))\n",
        "fig.tight_layout()\n",
        "\n",
        "plt.subplot(2, 1, 1)\n",
        "# \"bo\" is for \"blue dot\"\n",
        "plt.plot(epochs, loss, 'r', label='Training loss')\n",
        "# b is for \"solid blue line\"\n",
        "plt.plot(epochs, val_loss, 'b', label='Validation loss')\n",
        "plt.title('Training and validation loss')\n",
        "# plt.xlabel('Epochs')\n",
        "plt.ylabel('Loss')\n",
        "plt.legend()\n",
        "\n",
        "plt.subplot(2, 1, 2)\n",
        "plt.plot(epochs, acc, 'r', label='Training acc')\n",
        "plt.plot(epochs, val_acc, 'b', label='Validation acc')\n",
        "plt.title('Training and validation accuracy')\n",
        "plt.xlabel('Epochs')\n",
        "plt.ylabel('Accuracy')\n",
        "plt.legend(loc='lower right')"
      ],
      "execution_count": 55,
      "outputs": [
        {
          "output_type": "stream",
          "text": [
            "dict_keys(['loss', 'binary_accuracy', 'val_loss', 'val_binary_accuracy'])\n"
          ],
          "name": "stdout"
        },
        {
          "output_type": "execute_result",
          "data": {
            "text/plain": [
              "<matplotlib.legend.Legend at 0x7fa715478e90>"
            ]
          },
          "metadata": {
            "tags": []
          },
          "execution_count": 55
        },
        {
          "output_type": "display_data",
          "data": {
            "image/png": "[encoded data removed]",
            "text/plain": [
              "<Figure size 720x432 with 2 Axes>"
            ]
          },
          "metadata": {
            "tags": [],
            "needs_background": "light"
          }
        }
      ]
    },
    {
      "cell_type": "code",
      "metadata": {
        "colab": {
          "base_uri": "https://localhost:8080/"
        },
        "id": "LeM-I0qlJxmP",
        "outputId": "d9d38bc3-2b03-407a-ff99-59af717ce382"
      },
      "source": [
        "dataset_name = 'data'\n",
        "saved_model_path = './{}_bert'.format(dataset_name.replace('/', '_'))\n",
        "\n",
        "classifier_model.save(saved_model_path, include_optimizer=False)"
      ],
      "execution_count": 56,
      "outputs": [
        {
          "output_type": "stream",
          "text": [
            "WARNING:absl:Found untraced functions such as restored_function_body, restored_function_body, restored_function_body, restored_function_body, restored_function_body while saving (showing 5 of 915). These functions will not be directly callable after loading.\n",
            "WARNING:absl:Found untraced functions such as restored_function_body, restored_function_body, restored_function_body, restored_function_body, restored_function_body while saving (showing 5 of 915). These functions will not be directly callable after loading.\n"
          ],
          "name": "stderr"
        }
      ]
    },
    {
      "cell_type": "code",
      "metadata": {
        "id": "cp-SwIKsKC9F"
      },
      "source": [
        "reloaded_model = tf.saved_model.load(saved_model_path)"
      ],
      "execution_count": 57,
      "outputs": []
    },
    {
      "cell_type": "code",
      "metadata": {
        "colab": {
          "base_uri": "https://localhost:8080/"
        },
        "id": "S_sV47lSKd19",
        "outputId": "3226d0b0-4f3f-44f5-fca9-6339f3d44ff3"
      },
      "source": [
        "def print_my_examples(inputs, results):\n",
        "  result_for_printing = \\\n",
        "    [f'input: {inputs[i]:<30} : score: {results[i][0]:.6f}'\n",
        "                         for i in range(len(inputs))]\n",
        "  print(*result_for_printing, sep='\\n')\n",
        "  print()\n",
        "\n",
        "\n",
        "examples = [\n",
        "    '我们要保护环境，为绿色环保做贡献，加强绿色工业化战略推进，并力争拿出新的解决方案。',  # this is the same sentence tried earlier\n",
        "    '2017年开始，我们在城中村尝试将部分旧楼改造为长租公寓，为在城市内打拼的年轻人和家庭提供品质更高的居住环境。所有这些，都是时代赋予我们的责任。',\n",
        "    '我们致力于构建服务客户和城乡的生态平台，为普通人的健康幸福生活提供好产品与好服务，成为推动城乡建设发展、社会和谐进步、人民美好生活的建设性力量。',\n",
        "    '未来我们将继续发展物业服务、长租公寓、商业、物流、教育、养老、滑雪度假等业务，一如既往地把人民对美好生活的向往作为每个万科人的奋斗目标。',\n",
        "    '第二个领域是美好生活、消费升级。'\n",
        "]\n",
        "\n",
        "reloaded_results = tf.sigmoid(reloaded_model(tf.constant(examples)))\n",
        "original_results = tf.sigmoid(classifier_model(tf.constant(examples)))\n",
        "\n",
        "print('Results from the saved model:')\n",
        "print_my_examples(examples, reloaded_results)\n",
        "print('Results from the model in memory:')\n",
        "print_my_examples(examples, original_results)"
      ],
      "execution_count": 58,
      "outputs": [
        {
          "output_type": "stream",
          "text": [
            "Results from the saved model:\n",
            "input: 我们要保护环境，为绿色环保做贡献，加强绿色工业化战略推进，并力争拿出新的解决方案。 : score: 0.973823\n",
            "input: 2017年开始，我们在城中村尝试将部分旧楼改造为长租公寓，为在城市内打拼的年轻人和家庭提供品质更高的居住环境。所有这些，都是时代赋予我们的责任。 : score: 0.954879\n",
            "input: 我们致力于构建服务客户和城乡的生态平台，为普通人的健康幸福生活提供好产品与好服务，成为推动城乡建设发展、社会和谐进步、人民美好生活的建设性力量。 : score: 0.968976\n",
            "input: 未来我们将继续发展物业服务、长租公寓、商业、物流、教育、养老、滑雪度假等业务，一如既往地把人民对美好生活的向往作为每个万科人的奋斗目标。 : score: 0.969788\n",
            "input: 第二个领域是美好生活、消费升级。               : score: 0.849193\n",
            "\n",
            "Results from the model in memory:\n",
            "input: 我们要保护环境，为绿色环保做贡献，加强绿色工业化战略推进，并力争拿出新的解决方案。 : score: 0.973823\n",
            "input: 2017年开始，我们在城中村尝试将部分旧楼改造为长租公寓，为在城市内打拼的年轻人和家庭提供品质更高的居住环境。所有这些，都是时代赋予我们的责任。 : score: 0.954879\n",
            "input: 我们致力于构建服务客户和城乡的生态平台，为普通人的健康幸福生活提供好产品与好服务，成为推动城乡建设发展、社会和谐进步、人民美好生活的建设性力量。 : score: 0.968976\n",
            "input: 未来我们将继续发展物业服务、长租公寓、商业、物流、教育、养老、滑雪度假等业务，一如既往地把人民对美好生活的向往作为每个万科人的奋斗目标。 : score: 0.969788\n",
            "input: 第二个领域是美好生活、消费升级。               : score: 0.849193\n",
            "\n"
          ],
          "name": "stdout"
        }
      ]
    },
    {
      "cell_type": "code",
      "metadata": {
        "id": "D-LyABIhosUx"
      },
      "source": [
        "#导入正则模块\n",
        "#import re\n",
        "#创建rm_tags函数，输入参数text文字\n",
        "#def rm_tags(text):\n",
        "    #创建re_tag为正规表达式变量，且赋值为：'<[^>]+>'\n",
        "    #re_tag=re.compile(r'<[^>]+>')\n",
        "    #将text文字中符合正则表达式条件的字符替换成空字符串\n",
        "    #return re_tag.sub('',text)"
      ],
      "execution_count": null,
      "outputs": []
    },
    {
      "cell_type": "code",
      "metadata": {
        "id": "nzZOquXKjuGV"
      },
      "source": [
        "#读取文件\n",
        "#import os\n",
        "#创建read_files函数，输入参数filetype\n",
        "#读取训练数据时filetype参数会传入\"train\"\n",
        "#读取测试数据时filetype参数会传入\"test\"\n",
        "#def read_files(filetype):\n",
        "    #读取存取文件的路径\n",
        "    #path=\"./data/\"#/content/data/train\n",
        "    #创建文件列表\n",
        "    #file_list=[]\n",
        "    \n",
        "    #设置正面评价的文件目录为positive_path\n",
        "    #positive_path=path+filetype+\"/qinggan/\"\n",
        "    #使用for循环将positive_path目录下所有的文件加入file_list\n",
        "    #for f in os.listdir(positive_path):\n",
        "        #file_list+=[positive_path+f]\n",
        "    #设置负面评价的文件目录为negative_path\n",
        "    #negative_path=path+filetype+\"/neg/\"\n",
        "    #使用for循环将positive_path目录下所有的文件加入file_list\n",
        "    #for f in os.listdir(negative_path):\n",
        "        #file_list+=[negative_path+f]\n",
        "    #显示当前读取的filetype(train或test)目录下的文件个数\n",
        "    #print('read',filetype,'files:',len(file_list))\n",
        "    #前12500项是正面，故产生12500项1的列表；后12500项是负面，故产生12500项0的列表\n",
        "    #all_labels=([1]*2+[0]*0)\n",
        "    #设置all_texts为空列表\n",
        "    #all_texts=[]\n",
        "    #fi读取file_list所有文件：\n",
        "    #使用open()打开文件使用file_input.readlines()读取文件，并使用join连接所有的文件内容\n",
        "    #用rm_tags删除tag,最后加入all_text list中\n",
        "    #for fi in file_list:\n",
        "        #with open(fi,encoding='utf-8') as file_input:\n",
        "            #all_texts+=[rm_tags(\" \".join(file_input.readlines()))]\n",
        "    #return all_labels,all_texts"
      ],
      "execution_count": null,
      "outputs": []
    },
    {
      "cell_type": "code",
      "metadata": {
        "colab": {
          "base_uri": "https://localhost:8080/",
          "height": 69
        },
        "id": "QzJlxqwMn46s",
        "outputId": "56fd6679-9950-4fb5-db07-6fe00b93bc3e"
      },
      "source": [
        "#使用read_files函数传入参数\"train\"读取训练数据\n",
        "#y_train,train_text=read_files(\"train\")\n",
        "#train_text[0]\n",
        "#y_train[0]"
      ],
      "execution_count": null,
      "outputs": [
        {
          "output_type": "stream",
          "text": [
            "read train files: 2\n"
          ],
          "name": "stdout"
        },
        {
          "output_type": "execute_result",
          "data": {
            "application/vnd.google.colaboratory.intrinsic+json": {
              "type": "string"
            },
            "text/plain": [
              "'这一年我们迎来了十九大，为新时代的发展指明了方向；迎来了改革的春风，为企业的未来点亮了希望；迎来了新一届的领导班子，带领振业奋勇向前，开启新征程。\\t\\t1'"
            ]
          },
          "metadata": {
            "tags": []
          },
          "execution_count": 50
        }
      ]
    },
    {
      "cell_type": "code",
      "metadata": {
        "id": "uxEfoARRo6_z"
      },
      "source": [
        ""
      ],
      "execution_count": null,
      "outputs": []
    }
  ]
}